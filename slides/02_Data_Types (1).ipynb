{
  "nbformat": 4,
  "nbformat_minor": 0,
  "metadata": {
    "anaconda-cloud": {},
    "kernelspec": {
      "display_name": "Python 3",
      "language": "python",
      "name": "python3"
    },
    "language_info": {
      "codemirror_mode": {
        "name": "ipython",
        "version": 3
      },
      "file_extension": ".py",
      "mimetype": "text/x-python",
      "name": "python",
      "nbconvert_exporter": "python",
      "pygments_lexer": "ipython3",
      "version": "3.7.3"
    },
    "colab": {
      "name": "02_Data_Types.ipynb",
      "provenance": [],
      "collapsed_sections": [
        "f_CS92bQD6RL",
        "uIH0Ai-zD6Rb",
        "DhBLkCicD6Rg",
        "udHnygqRD6Rh",
        "ZcAG36CbD6Rj",
        "ijn70axoD6Rk",
        "FY2dGtjSD6Rk",
        "hIusfJIED6R3",
        "feCZ4bZfH3Ms",
        "5ytmdIhBD6R3",
        "DscfIVH-D6R6",
        "5VXQyqX0D6R6",
        "ggPbzTWlD6R-",
        "Oj5e-nJDD6SC"
      ]
    }
  },
  "cells": [
    {
      "cell_type": "markdown",
      "metadata": {
        "id": "R0uNKO7nD6RA"
      },
      "source": [
        "# Introduction to Python - July 11, 2022\n",
        "\n",
        "## Story so far...\n",
        "+ We have looked at starting up Google Colab and worked with Markdown\n",
        "\n",
        "## Today - Python Basics:\n",
        "+ primitive python objects / data-types and operations (numbers, strings)\n",
        "+ logical / boolean operators\n",
        "+ variables and variable naming conventions (pep8, reserved keywords)\n",
        "+ expressions and simple statements (assignment)\n",
        "+ misc (user input, comments, mutability, terminology)\n",
        "\n",
        "---"
      ]
    },
    {
      "cell_type": "markdown",
      "metadata": {
        "id": "7e-tvXUtLade"
      },
      "source": [
        "### Note:\n",
        "\n",
        "At the start of each lecture save a personal copy of the notebook that you can make changes to.\n",
        "\n",
        "File -> Save a copy in Drive"
      ]
    },
    {
      "cell_type": "markdown",
      "source": [
        "# Data Types\n",
        "Programming languages support various data types. While there are some variations, most languages support the [following types](https://www.w3schools.com/python/python_datatypes.asp):\n",
        "\n",
        "| Type      | Name |\n",
        "| ----------- | ----------- |\n",
        "| Text      | str       |\n",
        "|Numeric  | Int, float, complex        |\n",
        "| Sequence   | List, tuple, range        |\n",
        "| Mapping   | dict       |\n",
        "| Sets  | Set, frozenset        |\n",
        "| Boolean   | bool        |\n",
        "| Binary   | Bytes, bytearray, memoryview |\n",
        "| None   | None        |\n",
        "\n",
        "The types we will encounter most in this class are: str, int, float, list, dict, tuples, bool, and none. We will discuss list, tuple, and dict in later lectures."
      ],
      "metadata": {
        "id": "LS58BJf9cv9Z"
      }
    },
    {
      "cell_type": "markdown",
      "metadata": {
        "id": "vEzKiOWAD6RC"
      },
      "source": [
        "\n",
        "### Primitive Data Types in Python\n",
        "+ Numbers\n",
        "  + int - integers which are whole numbers such as **3**\n",
        "  + float - floats which are numbers that have a decimal place such as **-3.4**\n",
        "+ Logical\n",
        "  + bool - booleans are either **True** or **False**\n",
        "+ Text Sequence\n",
        "  + str - strings are a sequence of characters such as **'bananas'**\n",
        "\n",
        "+ None type \n",
        "  + <code>None</code> represents a null value or no value at all. It is not defined as 0 or any other numeric value. It is not the same as  false, or the empty string. It returns nothing.\n",
        "  \n",
        "### More complex Types (These are discussed later in the course)\n",
        "+ Sequence Types\n",
        "  + list\n",
        "  + tuple\n",
        "  + range\n",
        "  + ...\n",
        "+ Sets\n",
        "+ Dictionaries\n",
        "+ Functions\n",
        "+ Classes/User Defined Types\n",
        "+ ..."
      ]
    },
    {
      "cell_type": "markdown",
      "metadata": {
        "id": "4fKbxLTCD6RC"
      },
      "source": [
        "### Pound sign (#) Hash tag to some, number sign to others\n",
        "The **#** symbol allows you to write notes in your program. These are called comments.\n",
        "\n",
        "```python\n",
        "print(3) # this is a comment\n",
        "```\n"
      ]
    },
    {
      "cell_type": "code",
      "source": [
        "# import math and get length of diagonal \n",
        "\n",
        "import math\n",
        "\n",
        "# length of a diagnonal \n",
        "\n",
        "l = 4\n",
        "w = 10\n",
        "d = math.sqrt(l**2 + w**2)\n",
        "print(d)\n",
        "\n",
        "\n",
        "\n",
        "\n"
      ],
      "metadata": {
        "id": "qkWdnvmwQrn6"
      },
      "execution_count": null,
      "outputs": []
    },
    {
      "cell_type": "markdown",
      "metadata": {
        "id": "uVViUiyMQm0x"
      },
      "source": [
        "# Using Type \n",
        "Parenthesis generally indicate that the previous word is a function (more on this later). For now just know that functions take input values in the parenthesis and will return some value.\n",
        "\n",
        "The print function will output what ever arguments are passed to it to the terminal or notebook. Different variables can be passed to the print function by separating them with a comma.\n",
        "\n",
        "**type** is another function, it will return the data type of the argument passed in the parenthesis."
      ]
    },
    {
      "cell_type": "code",
      "source": [
        "print(type(d))"
      ],
      "metadata": {
        "id": "9SIpNzZoRa1n"
      },
      "execution_count": null,
      "outputs": []
    },
    {
      "cell_type": "markdown",
      "metadata": {
        "nbpresent": {
          "id": "a7b6cb74-6254-4ee8-ad86-a23221bb3937"
        },
        "id": "gNvDvRQ5D6RD"
      },
      "source": [
        "integer: 3 </br>\n",
        "float: 2.5 </br>\n",
        "string: \"apple\" </br>\n",
        "bool: True </br>\n",
        "string: '3' </br>\n",
        "string: '2.5' </br>\n",
        "\n",
        "```python\n",
        "print(type(3), 3) # integer\n",
        "print(type(2.5), 2.5) # float\n",
        "print(type('apples'), 'apples') # string\n",
        "print(type(True), True) # boolean\n",
        "print(type('3'), '3') # string\n",
        "print(type('2.5'), '2.5') # string\n",
        "```"
      ]
    },
    {
      "cell_type": "code",
      "metadata": {
        "nbpresent": {
          "id": "7c8aa30d-5ed6-42c8-8512-410249e15662"
        },
        "id": "J_9Xs4jLD6RD"
      },
      "source": [
        "# type above code to practice \n",
        "print(type(3), 3)\n",
        "print(type(2.5), 2.5)\n",
        "print(type('apple'), 'apple')\n",
        "print(type(True), True)\n",
        "print(type('3'), '3')\n",
        "print(type('2.5'), '2.5')\n",
        "\n"
      ],
      "execution_count": null,
      "outputs": []
    },
    {
      "cell_type": "markdown",
      "metadata": {
        "nbpresent": {
          "id": "73566e1a-b54a-4dad-b4fa-f8f6a79f5fe3"
        },
        "id": "SqraiYjHD6RH"
      },
      "source": [
        "------------------\n",
        "# Operations\n",
        "\n",
        "Each datatype has a number of operations that are valid.\n",
        "\n",
        "Here are some commmon operators, more will be covered as we progress in the course.\n",
        "\n",
        "## Mathematical Operators (For numeric values)\n",
        "+ **( )** - Parentheses are used to define the order of operation\n",
        "+ **\\*\\*** - Exponent : x<sup>n</sup> = x\\*\\*n \n",
        "+ **\\*** - Multiplacation : 5 \\* 3\n",
        "+ **/** - Division : 15 / 3\n",
        "+ **//** - Floor/Integer Division (rounds down to the nearest int) : 7 // 3 = 2\n",
        "+ **+** - Addition : 5 + 3\n",
        "+ **\\-** - Subtraction : 3 - 5\n",
        "+ **%** - Modulus (returns the remainder of a division) : 16 % 3"
      ]
    },
    {
      "cell_type": "markdown",
      "metadata": {
        "nbpresent": {
          "id": "9f146ff0-969a-4f1a-8836-b8442c7e6f5a"
        },
        "id": "bV4RijQwD6RI"
      },
      "source": [
        "```python\n",
        "print ('1 + 2 = ', 1 + 2) # Addition\n",
        "print ('2 - 1 = ', 2 - 1) # Subtraction\n",
        "print ('2 * 5 = ', 2 * 5) # Multiplication\n",
        "print ('6 / 2 = ', 6 / 2) # Division\n",
        "print ('7 // 2 = ', 7 // 2) # Floor/Integer division\n",
        "print ('2 ** 3 = ', 2 ** 3) # Exponent\n",
        "print ('16 % 3 = ', 16 % 3) # Division\n",
        "print ('(1 + 3) * (4 + 5) = ', (1 + 3) * (4 + 5)) # parenthesis\n",
        "print ('1 + 3 * 4 + 5 = ', 1 + 3 * 4 + 5) # PEMDAS\n",
        "\n",
        "```\n"
      ]
    },
    {
      "cell_type": "markdown",
      "metadata": {
        "nbpresent": {
          "id": "6ebad520-b306-45cf-afb4-a17fc1675dbd"
        },
        "id": "VC5OfxtdD6RI"
      },
      "source": [
        "Parenthesis can help make statements less ambigous, this is a good thing"
      ]
    },
    {
      "cell_type": "code",
      "metadata": {
        "nbpresent": {
          "id": "915defb3-ddf4-43c8-b6e7-14e621bdd97b"
        },
        "id": "7vkl73QUD6RJ"
      },
      "source": [
        "print ('1 + 2 = ', 1 + 2) # Addition\n",
        "print ('2 - 1 = ', 2 - 1) # Subtraction\n",
        "print ('2 * 5 = ', 2 * 5) # Multiplication\n",
        "print ('6 / 2 = ', 6 / 2) # Division\n",
        "print ('7 // 2 = ', 7 // 2.0) # Floor/Integer division\n",
        "print ('2 ** 3 = ', 2 ** 3) # Exponent\n",
        "print ('16 % 3 = ', 16 % 3) # Division\n",
        "print ('(1 + 3) * (4 + 5) = ', (1 + 3) * (4 + 5)) # parenthesis\n",
        "print ('1 + 3 * 4 + 5 = ', 1 + 3 * 4 + 5) # PEMDAS"
      ],
      "execution_count": null,
      "outputs": []
    },
    {
      "cell_type": "code",
      "source": [
        "# practice using at least three of the operators above \n",
        "\n",
        "fahrenheit = 78\n",
        "to_centigrade = 5/9*(fahrenheit-32)\n",
        "print(to_centigrade)\n",
        "\n",
        "\n",
        "\n"
      ],
      "metadata": {
        "id": "qwNSAUO7QbfD"
      },
      "execution_count": null,
      "outputs": []
    },
    {
      "cell_type": "markdown",
      "metadata": {
        "nbpresent": {
          "id": "3540760a-1b13-4ba8-ae5e-a1f74d2665fe"
        },
        "id": "f_CS92bQD6RL"
      },
      "source": [
        "## String Operators\n",
        "\n",
        "+ **+** - Addition : 'ban' + 'ana' = 'banana'\n",
        "+ **\\*** - Multiplacation : 'ba' * 5 = 'bababababa'\n",
        "+ **[x:y:z]** - Slicing : 'banana'[0:2] = 'ba'\n"
      ]
    },
    {
      "cell_type": "markdown",
      "metadata": {
        "nbpresent": {
          "id": "2c020eb0-45e7-41af-b461-5d751fd4df91"
        },
        "id": "8acXJfsYD6RM"
      },
      "source": [
        "```python\n",
        "print(\"'Ban' + 'ana' = \", 'Ban' + 'ana')\n",
        "print(\"'Ba' * 5 = \", 'Ba' * 5)\n",
        "```"
      ]
    },
    {
      "cell_type": "code",
      "metadata": {
        "nbpresent": {
          "id": "98c1d132-d48e-46b0-a34d-8ca0c9f92ae7"
        },
        "id": "ln4ksTaaD6RM"
      },
      "source": [
        "# type code above\n",
        "print(\"'Ban' + 'ana' = \", 'Ban' + 'ana')\n",
        "print(\"'Ba' * 5\", 'Ba' * 5)\n",
        "\n",
        "\n",
        "# example of index\n",
        "\n",
        "fruit = \"Banana\"\n",
        "print(fruit[0:2])\n"
      ],
      "execution_count": null,
      "outputs": []
    },
    {
      "cell_type": "markdown",
      "metadata": {
        "nbpresent": {
          "id": "c800418f-6861-450b-a582-1531570e5fd1"
        },
        "id": "7QL0WK_UD6RP"
      },
      "source": [
        "###### String Operations\n",
        "\n",
        "Everything in Python is an Object\n",
        "\n",
        "+ Objects generally have attributes and methods.\n",
        "+ Methods are just operations that can be applied to the object\n",
        "+ These methods which are accessed using a '.' character\n",
        "\n",
        "The following code demonstrates a couple of string operators"
      ]
    },
    {
      "cell_type": "markdown",
      "metadata": {
        "nbpresent": {
          "id": "cee19fa3-6f6b-4e08-a178-016f93a346c1"
        },
        "id": "5GRGwpa0D6RQ"
      },
      "source": [
        "```python\n",
        "print(\"'Banana'.upper() = \", 'Banana'.upper())\n",
        "print(\"'banana'.isupper() = \", 'banana'.isupper())\n",
        "print(\"'BANANA'.isupper() = \", 'BANANA'.isupper())\n",
        "print(\"'124'.isdigit() = \", '124'.isdigit()) # note that this is a string\n",
        "print(\"'Banana'.swapcase() = \", 'Banana'.swapcase())\n",
        "```\n"
      ]
    },
    {
      "cell_type": "code",
      "metadata": {
        "nbpresent": {
          "id": "712cf592-a000-4776-bb15-29e811504e9f"
        },
        "id": "-eMlR1PMD6RQ"
      },
      "source": [
        "print(\"'Banana'.upper() = \", 'Banana'.upper())\n",
        "print(\"'banana'.isupper() = \", 'banana'.isupper())\n",
        "print(\"'BANANA'.isupper() = \", 'BANANA'.isupper())\n",
        "print(\"'124'.isdigit() = \", '124'.isdigit()) # note that this is a string\n",
        "print(\"'Banana'.swapcase() = \", 'Banana'.swapcase())\n",
        "\n",
        "# Note: All string methods returns new values. They do not change the original string. \n",
        "# You have to assign a new variable to save changes. \n",
        "\n",
        "# New variable\n",
        "\n",
        "fruit = \"banana\"\n",
        "print(fruit)\n",
        "\n",
        "fruit = fruit.upper()\n",
        "print(fruit)\n"
      ],
      "execution_count": null,
      "outputs": []
    },
    {
      "cell_type": "markdown",
      "metadata": {
        "nbpresent": {
          "id": "1d2b2588-bdd4-4a28-bdd9-e0ff691c9483"
        },
        "id": "FftIsvJ8D6RS"
      },
      "source": [
        "Python Documentation on methods - explain documentation - how to read help\n",
        "```python\n",
        "help ('banana'.upper)\n",
        "```"
      ]
    },
    {
      "cell_type": "code",
      "metadata": {
        "nbpresent": {
          "id": "d7f2f798-3f48-4334-9012-0a65376386ae"
        },
        "id": "v9bPMNu4D6RT"
      },
      "source": [
        "help('banana'.upper)\n",
        "\n"
      ],
      "execution_count": null,
      "outputs": []
    },
    {
      "cell_type": "code",
      "source": [
        "help('math')"
      ],
      "metadata": {
        "id": "5A61Ut7xkqDd"
      },
      "execution_count": null,
      "outputs": []
    },
    {
      "cell_type": "code",
      "metadata": {
        "id": "-nm_d5s46MYm"
      },
      "source": [
        "# passing an argument to a function (more on this later)\n",
        "def upper(string):\n",
        "  return string.upper()\n",
        "\n",
        "upper('asd')\n",
        "upper('banana')\n",
        "upper('banana'[2])\n"
      ],
      "execution_count": null,
      "outputs": []
    },
    {
      "cell_type": "code",
      "source": [
        "# f-string to format (introduced with Python 3.6) \n",
        "\n",
        "name = \"Genevieve\" \n",
        "f\"{upper(name)} is funny\""
      ],
      "metadata": {
        "id": "ob2ScKvGrmkb"
      },
      "execution_count": null,
      "outputs": []
    },
    {
      "cell_type": "code",
      "source": [
        "first_name = \"Genevieve\"\n",
        "profession = \"Data Librarian\"\n",
        "\n",
        "\"{} is a {}.\".format(first_name, profession)"
      ],
      "metadata": {
        "id": "6hL_JJBUskCe"
      },
      "execution_count": null,
      "outputs": []
    },
    {
      "cell_type": "markdown",
      "source": [
        "More on F-strings: \n",
        "\n",
        "https://realpython.com/python-f-strings/ </br>\n",
        "https://docs.python.org/3/tutorial/inputoutput.html"
      ],
      "metadata": {
        "id": "Kq55ychDs9jV"
      }
    },
    {
      "cell_type": "markdown",
      "metadata": {
        "id": "7iOmGa6rD6RW"
      },
      "source": [
        "Different object types (int, string, boolean, ...) will have its own set of methods which can be applied to it. These can be seen using the dir(object) command.\n",
        "```python\n",
        "dir(0)\n",
        "dir('')\n",
        "```\n",
        "\n",
        "Documentation can be accessed using the help function:\n",
        "```python\n",
        "help(str)\n",
        "```\n",
        "\n",
        "To quickly look up a specific methods documentation in Jupyter you can use a '?':\n",
        "\n",
        "```python\n",
        "?str.find()\n",
        "```"
      ]
    },
    {
      "cell_type": "code",
      "source": [
        "#dir(\"\")\n",
        "#dir(0)\n"
      ],
      "metadata": {
        "id": "1OjoEi-No9LL"
      },
      "execution_count": null,
      "outputs": []
    },
    {
      "cell_type": "code",
      "metadata": {
        "id": "d44qZ6psD6RW"
      },
      "source": [
        "?str.casefold\n",
        "\n"
      ],
      "execution_count": null,
      "outputs": []
    },
    {
      "cell_type": "markdown",
      "metadata": {
        "nbpresent": {
          "id": "5aeb7035-49e6-41dd-9468-afbf88e87d59"
        },
        "id": "SB-FScjMD6RY"
      },
      "source": [
        "-----------\n",
        "\n",
        "# Variables \n",
        "## What are they?\n",
        "\n",
        "Variables allow programs to store data and retrieve or manipulate it later in the program.\n",
        "\n"
      ]
    },
    {
      "cell_type": "markdown",
      "source": [
        "```python\n",
        "diabetes_test = \"A1C test\"\n",
        "```\n",
        "You can think about it as: \n",
        "> the variable 'diabetes test\" *gets* the value 'A1C test'. "
      ],
      "metadata": {
        "id": "3Dx6OOJDyuRU"
      }
    },
    {
      "cell_type": "code",
      "metadata": {
        "nbpresent": {
          "id": "711f71c4-b7f2-46f1-a190-790fd66f5248"
        },
        "id": "ZUYmBdakD6RZ"
      },
      "source": [
        "int_one = 5\n",
        "int_two = 25\n",
        "result = int_one + int_two\n",
        "print(result, int_one, int_two)"
      ],
      "execution_count": null,
      "outputs": []
    },
    {
      "cell_type": "markdown",
      "metadata": {
        "nbpresent": {
          "id": "9bfea77f-579b-4436-85ee-c3b0ba8dbca0"
        },
        "id": "uIH0Ai-zD6Rb"
      },
      "source": [
        "### Be aware\n",
        "\n",
        "Assignment happens from right to left\n",
        "```python\n",
        "number = 5 + 1\n",
        "fruit = 'banana'\n",
        "```\n",
        "\n",
        "variable must be assigned before being used\n",
        "```python\n",
        "print (unknown_variable)\n",
        "```"
      ]
    },
    {
      "cell_type": "code",
      "metadata": {
        "id": "qaz25L_zD6Rb"
      },
      "source": [
        "print(unknown_variable)"
      ],
      "execution_count": null,
      "outputs": []
    },
    {
      "cell_type": "markdown",
      "metadata": {
        "id": "DhBLkCicD6Rg"
      },
      "source": [
        "### Updating a value\n",
        "\n",
        "```python\n",
        "result = 0\n",
        "result = result + 5\n",
        "print(result)\n",
        "result = 2\n",
        "print(result)\n",
        "```"
      ]
    },
    {
      "cell_type": "code",
      "metadata": {
        "id": "W5CEEyWn-TfP"
      },
      "source": [
        "# pratice writing above code\n",
        "\n",
        "result = 0 \n",
        "result = result + 5 \n",
        "print(result)\n",
        "\n",
        "result = 2\n",
        "print(result)\n",
        "\n",
        "\n"
      ],
      "execution_count": null,
      "outputs": []
    },
    {
      "cell_type": "markdown",
      "metadata": {
        "id": "udHnygqRD6Rh"
      },
      "source": [
        "## Valid Variable Names\n",
        "\n",
        "Variables can start with a character or underscore\n",
        "+ variable   &#10003;\n",
        "+ Variable &#10003;\n",
        "+ _variable   &#10003;\n",
        "\n",
        "Variables cannot start with a number or special character\n",
        "+ 1variable   &#10007;\n",
        "+ !variable   &#10007;\n",
        "\n",
        "```python\n",
        "number = 1   # correct\n",
        "_number = 1  # correct\n",
        "!number = 1  # incorrect\n",
        "number 1 = 1 # incorrect\n",
        "1number = 1  # incorrect\n",
        "```"
      ]
    },
    {
      "cell_type": "code",
      "metadata": {
        "id": "2-4B_owbD6Rh"
      },
      "source": [
        "Var_1 = 5\n",
        "var_1 = 10\n",
        "print(Var_1, var_1)"
      ],
      "execution_count": null,
      "outputs": []
    },
    {
      "cell_type": "markdown",
      "metadata": {
        "id": "ZcAG36CbD6Rj"
      },
      "source": [
        "## Naming Convensions\n",
        "\n",
        "+ b (single lowercase letter)\n",
        "+ B (single uppercase letter)\n",
        "+ lowercase\n",
        "+ UPPERCASE\n",
        "+ lowercase_with_underscores (this is the prefered method for python)\n",
        "+ UPPERCASE_WITH_UNDERSCORES\n",
        "+ CapitalizedWords (also known as CamelCase)\n",
        "+ mixedCase (differs from CapitilizedWords as they always starts with a lowercase character)\n",
        "+ Capitalized_Words_With_Underscores\n",
        "\n",
        "### Be aware\n",
        "capital i (I), lowercase l (L) and the number 1 look the same in some fonts,\n",
        "capital O and 0 also look the same in some fonts"
      ]
    },
    {
      "cell_type": "markdown",
      "metadata": {
        "id": "ijn70axoD6Rk"
      },
      "source": [
        "## PEP8\n",
        "This is a style guide which dictates how your code should look.\n",
        "\n",
        "This helps programs to look similar, which makes them easier to understand for anyone who also uses the styleguide\n",
        "\n",
        "Here is the link to the PEP8 style guide : https://www.python.org/dev/peps/pep-0008/"
      ]
    },
    {
      "cell_type": "markdown",
      "metadata": {
        "nbpresent": {
          "id": "d01ed972-3953-47af-b669-31d0f4401b58"
        },
        "id": "FY2dGtjSD6Rk"
      },
      "source": [
        "## Reserved Words\n",
        "\n",
        "These are words that are used by python and cannot be used as variable names\n",
        "\n",
        "|Reserved Words|||||\n",
        "|---|---|---|---|---|\n",
        "|and|del|from|not|while|\n",
        "|as|elif|global|or|with|\n",
        "|assert|else|if|pass|yield|\n",
        "|break|except|import|print|class|\n",
        "|exec|in|raise|continue|finally|\n",
        "|is|return|def|for|lambda|\n",
        "|try|\n",
        "\n",
        "This will cause an error\n",
        "\n",
        "```python\n",
        "lambda = 5\n",
        "```"
      ]
    },
    {
      "cell_type": "code",
      "metadata": {
        "id": "Ct9KPsZ6D6Rl"
      },
      "source": [
        "lambda = 5"
      ],
      "execution_count": null,
      "outputs": []
    },
    {
      "cell_type": "markdown",
      "metadata": {
        "nbpresent": {
          "id": "0c013d66-f037-44c7-baa3-f18a32dbbde7"
        },
        "id": "d9jzewuVD6Rs"
      },
      "source": [
        "# Mutability\n",
        "\n",
        "Some types are immutable, which means that the original cannot be changed, in order to update the value a new object needs to be created.\n",
        "\n",
        "some operations change the original object, some return a new object\n",
        "\n",
        "**Immutable types**\n",
        "+ str\n",
        "+ int\n",
        "+ float\n",
        "\n",
        "**mutable types** (more on these later)\n",
        "+ list\n",
        "+ dictionary"
      ]
    },
    {
      "cell_type": "markdown",
      "metadata": {
        "nbpresent": {
          "id": "20b53337-c5a8-473e-93e1-a8e6b777ebb1"
        },
        "id": "UfxyZBsQD6Rt"
      },
      "source": [
        "Immutable example\n",
        "```python\n",
        "animal = \"dog\"\n",
        "print (id(animal), animal)\n",
        "animal = animal + 'a'\n",
        "print (id(animal), animal) #animal is a new object, previous one is deleted\n",
        "```\n",
        "Mutable example\n",
        "```python\n",
        "numbers = [1,2,3] # this is a list ( more on this later)\n",
        "print (id(numbers), numbers)\n",
        "numbers.append(4)\n",
        "print (id(numbers), numbers) #numbers object is the same\n",
        "```"
      ]
    },
    {
      "cell_type": "code",
      "metadata": {
        "id": "BHpZr5RGD6Rt"
      },
      "source": [
        "animal = \"dog\"\n",
        "print (id(animal), animal)\n",
        "animal = animal + 'a'\n",
        "print (id(animal), animal) #animal is a new object, previous one is deleted"
      ],
      "execution_count": null,
      "outputs": []
    },
    {
      "cell_type": "code",
      "metadata": {
        "id": "ADDUcwSvBiZ4"
      },
      "source": [
        "numbers = [1,2,3] # this is a list ( more on this later)\n",
        "print (id(numbers), numbers)\n",
        "numbers.append(4)\n",
        "print (id(numbers), numbers) #numbers object is the same"
      ],
      "execution_count": null,
      "outputs": []
    },
    {
      "cell_type": "markdown",
      "metadata": {
        "id": "AvNF37lND6Rw"
      },
      "source": [
        "String methods do not change the original value. Instead a new string is created by the method\n",
        "```python\n",
        "fruit = 'banana'\n",
        "fruit.upper() # This command still happens, the new string is not stored into a variable\n",
        "print (fruit) # fruit is still lowercase\n",
        "```\n",
        "The return type of a method is shown by the help function.\n",
        "\n",
        "```python\n",
        "help (fruit.upper)\n",
        "```"
      ]
    },
    {
      "cell_type": "code",
      "metadata": {
        "id": "brDUaqXmD6Rw"
      },
      "source": [
        "fruit = 'banana'\n",
        "print(fruit.upper()) # This command still happens, the new string is not stored into a variable\n",
        "print (fruit) # fruit is still lowercase\n",
        "\n",
        "fruit = fruit.upper()\n",
        "print(fruit)"
      ],
      "execution_count": null,
      "outputs": []
    },
    {
      "cell_type": "markdown",
      "metadata": {
        "id": "D3kV9BbvD6Ry"
      },
      "source": [
        "In order to use the result of the string operation we need to store it in a variable. Variables can be reused, simply assign the result of the operation to the original variable"
      ]
    },
    {
      "cell_type": "code",
      "metadata": {
        "nbpresent": {
          "id": "c66424ea-edeb-4e56-a332-1d3ec5d30a72"
        },
        "id": "7PMs5tXrD6Rz"
      },
      "source": [
        "# assign a new variable \n",
        "\n",
        "\n",
        "fruit = fruit.upper()\n",
        "print(fruit)\n",
        "\n"
      ],
      "execution_count": null,
      "outputs": []
    },
    {
      "cell_type": "markdown",
      "metadata": {
        "id": "hIusfJIED6R3"
      },
      "source": [
        "### Immutable objects in memory (Simplified)\n",
        "|ID|Value|Variable|\n",
        "|-|-|-|\n",
        "|103012|||\n",
        "|103013|||\n",
        "|103014|||\n",
        "|...|||\n",
        "|213787|||\n",
        "|213788|||\n",
        "|213789|||\n",
        "\n",
        "```python\n",
        "variable1 = \"FOO\"\n",
        "```\n",
        "\n",
        "|ID|Value|Variable|\n",
        "|-|-|-|\n",
        "|103012|||\n",
        "|103013|||\n",
        "|103014|FOO|variable1|\n",
        "|...|||\n",
        "|213787|||\n",
        "|213788|||\n",
        "|213789|||\n",
        "\n",
        "```python\n",
        "variable2 = variable1 + \"BAR\"\n",
        "```\n",
        "\n",
        "|ID|Value|Variable|\n",
        "|-|-|-|\n",
        "|103012|||\n",
        "|103013|||\n",
        "|103014|FOO|variable1|\n",
        "|...|||\n",
        "|213787|||\n",
        "|213788|FOOBAR|variable2|\n",
        "|213789|||\n",
        "\n",
        "```python\n",
        "variable1 = variable1 + \"BAR\"\n",
        "```\n",
        "\n",
        "|ID|Value|Variable|\n",
        "|-|-|-|\n",
        "|103012|FOOBAR|variable1|\n",
        "|103013|||\n",
        "|103014|~~FOO~~||\n",
        "|...|||\n",
        "|213787|||\n",
        "|213788|FOOBAR|variable2|\n",
        "|213789|||"
      ]
    },
    {
      "cell_type": "markdown",
      "metadata": {
        "id": "feCZ4bZfH3Ms"
      },
      "source": [
        "### Breakout Session:\n",
        "\n",
        "During the next 5 minutes answer these questions with the rest of your group.\n",
        "\n",
        "1. What are the four primitive data types? \n",
        "2. Mutability\n",
        "  1. What is the difference between a mutable and immutable object?\n",
        "  2. Why do you think this might be useful?"
      ]
    },
    {
      "cell_type": "markdown",
      "source": [
        "# Compound Statements \n",
        "\n",
        "We will cover compound statements more in this class, but it's important to understand that how python runs code line by line, rather than say a compiled language. Compound statements contain (groups of) other statements; they affect or control the execution of those other statements in some way.\n",
        "\n",
        "```python\n",
        "messages = “Python is great!”\n",
        "print(message) \n",
        "\n",
        "# example to show Python’s execution order \n",
        "for i in range(10):\n",
        "    print(i)\n",
        "    i = 5  \n",
        "print(i)\n",
        "```\n",
        "\n",
        "Python Documentation on Compound Statements: https://docs.python.org/3/reference/compound_stmts.html\n"
      ],
      "metadata": {
        "id": "7qhI7i304HeU"
      }
    },
    {
      "cell_type": "code",
      "source": [
        "# Note the order of execution \n",
        "for i in range(10):\n",
        "    print(i)\n",
        "    i = 5  \n",
        "print(i)"
      ],
      "metadata": {
        "id": "F0E2dHQvYbgW"
      },
      "execution_count": null,
      "outputs": []
    },
    {
      "cell_type": "markdown",
      "metadata": {
        "nbpresent": {
          "id": "de212318-45be-40b4-a1da-10679f3221e7"
        },
        "id": "5ytmdIhBD6R3"
      },
      "source": [
        "------------\n",
        "## Logical Operations\n",
        "### Boolean expressions\n",
        "\n",
        "A boolean expressions is an expression that will either evaluate to True or False.\n",
        "\n",
        "|Operator|Expression|Comparison|\n",
        "|---|---|---|\n",
        "|==|x **==** y|is x equal to y?|\n",
        "|!=|x **!=** y|is x not equal to y?|\n",
        "|<|x **<** y|is x less than y?|\n",
        "|>|x **>** y|is x greater than y?|\n",
        "|<=|x **<=** y|is x less than or equal to y?|\n",
        "|>=|x **>=** y|is x greater than or equal to y?|\n",
        "|is|x **is** y|is x, y?|"
      ]
    },
    {
      "cell_type": "markdown",
      "metadata": {
        "nbpresent": {
          "id": "c7daedd8-1ce1-4e5f-ba0a-c4e8194dff50"
        },
        "id": "7AgjvroeD6R4"
      },
      "source": [
        "```python\n",
        "x = 5\n",
        "y = 10\n",
        "print (x,'==',y,'\\t:', x == y)\n",
        "print (x,'!=',y,'\\t:', x != y)\n",
        "print (x,'<',y,' \\t:', x < y)\n",
        "print (x,'>',y,' \\t:', x > y)\n",
        "print (x,'<=',y,'\\t:', x <= y)\n",
        "print (x,'>=',y,'\\t:', x >= y)\n",
        "print (x,'is',y,'\\t:', x is y)\n",
        "print ('type(x == y) : \\t', type(x==y))\n",
        "```"
      ]
    },
    {
      "cell_type": "code",
      "metadata": {
        "id": "t_oPnwzgD6R4"
      },
      "source": [
        "\n",
        "x = 5\n",
        "y = 10\n",
        "print (x,'==',y,'\\t:', x == y)\n",
        "print (x,'!=',y,'\\t:', x != y)\n",
        "print (x,'<',y,' \\t:', x < y)\n",
        "print (x,'>',y,' \\t:', x > y)\n",
        "print (x,'<=',y,'\\t:', x <= y)\n",
        "print (x,'>=',y,'\\t:', x >= y)\n",
        "print (x,'is',y,'\\t:', x is y)\n",
        "print ('type(x == y) : \\t', type(x==y))"
      ],
      "execution_count": null,
      "outputs": []
    },
    {
      "cell_type": "markdown",
      "metadata": {
        "id": "DscfIVH-D6R6"
      },
      "source": [
        "### Logical Operators\n",
        "\n",
        "There are three logical operators **_and_**, **_or_** and **_not_**.\n",
        "\n",
        "+ **and** Operator\n",
        "\n",
        "|x|y|x and y|\n",
        "|---|---|---|\n",
        "|False|False|False|\n",
        "|False|True|False|\n",
        "|True|False|False|\n",
        "|True|True|True|\n",
        "\n",
        "+ **or** Operator\n",
        "\n",
        "|x|y|x or y|\n",
        "|---|---|---|\n",
        "|False|False|False|\n",
        "|False|True|True|\n",
        "|True|False|True|\n",
        "|True|True|True|\n",
        "\n",
        "+ **not** Operator\n",
        "\n",
        "|x|not x|\n",
        "|---|---|\n",
        "|False|True|\n",
        "|True|False|"
      ]
    },
    {
      "cell_type": "markdown",
      "metadata": {
        "nbpresent": {
          "id": "4068ad08-f15b-4151-b90b-1f3ece860aa0"
        },
        "id": "5VXQyqX0D6R6"
      },
      "source": [
        "#### Example\n",
        "\n",
        "The following code evaluates 2 boolean expressions\n",
        "\n",
        "+ whether the number is even\n",
        " + n%2 == 0\n",
        "+ whether the number is positive\n",
        " + n > 0\n",
        "\n",
        "Using the 2 boolean expressions 2 logical expressions are evaluated\n",
        "\n",
        "+ whether the number is even and positive\n",
        " + n%2 == 0 and n > 0\n",
        "+ whether the number is even or positive\n",
        " + n%2 == 0 or n > 0"
      ]
    },
    {
      "cell_type": "markdown",
      "metadata": {
        "nbpresent": {
          "id": "f03f841d-c6e6-4b59-aa30-d84e189b9847"
        },
        "id": "8jsU7YTmD6R7"
      },
      "source": [
        "```python\n",
        "num = 5\n",
        "\n",
        "print ('positive_even :', num)\n",
        "print ('\\tBoolean Expressions')\n",
        "print ('\\t\\t', num, '% 2 == 0 \\t\\t\\t:', num%2 == 0)\n",
        "print ('\\t\\t', num, '> 0 \\t\\t\\t\\t:', num > 0)\n",
        "print ('\\tLogical Expressions')\n",
        "print ('\\t\\t', num, '% 2 == 0 and',num,'> 0 \\t\\t:', num%2 == 0 and num > 0)\n",
        "print ('\\t\\t', num, '% 2 == 0 or',num,'> 0 \\t\\t:', num%2 == 0 or num > 0)\n",
        "```"
      ]
    },
    {
      "cell_type": "code",
      "metadata": {
        "nbpresent": {
          "id": "e3df99d2-b145-4907-ab95-27633b2e80df"
        },
        "id": "jyTH4cEqD6R7"
      },
      "source": [
        "num = 5\n",
        "\n",
        "print ('positive_even :', num)\n",
        "print ('\\tBoolean Expressions')\n",
        "print ('\\t\\t', num, '% 2 == 0 \\t\\t\\t:', num%2 == 0)\n",
        "print ('\\t\\t', num, '> 0 \\t\\t\\t\\t:', num > 0)\n",
        "print ('\\tLogical Expressions')\n",
        "print ('\\t\\t', num, '% 2 == 0 and',num,'> 0 \\t\\t:', num%2 == 0 and num > 0)\n",
        "print ('\\t\\t', num, '% 2 == 0 or',num,'> 0 \\t\\t:', num%2 == 0 or num > 0)"
      ],
      "execution_count": null,
      "outputs": []
    },
    {
      "cell_type": "markdown",
      "metadata": {
        "nbpresent": {
          "id": "f09898cd-6bb7-47b6-aee1-c06a7b4399a9"
        },
        "id": "ggPbzTWlD6R-"
      },
      "source": [
        "## User Input\n",
        "\n",
        "Allows your programs to be dynamic.\n",
        "\n",
        "**Methods**\n",
        "+ input()\n",
        "+ command line arguments (covered later)\n",
        "+ reading from files (covered later)\n",
        "+ ...\n",
        "\n",
        "### input()\n",
        "+ This method will create a prompt in the console.\n",
        "+ The user can then input their data\n",
        "\n",
        "**Usage**\n",
        "```python\n",
        "variable_to_hold_input = input('message to show user')\n",
        "print (variable_to_hold_input)\n",
        "```"
      ]
    },
    {
      "cell_type": "code",
      "metadata": {
        "id": "dDOVfk0mD6R-"
      },
      "source": [
        "variable_to_hold_input = input('message to show user')\n",
        "print (variable_to_hold_input)"
      ],
      "execution_count": null,
      "outputs": []
    },
    {
      "cell_type": "code",
      "source": [
        "name = input(\" Enter your name: \")\n",
        "print('Hello, ' + name)"
      ],
      "metadata": {
        "id": "X27qfWwbcBzA"
      },
      "execution_count": null,
      "outputs": []
    },
    {
      "cell_type": "markdown",
      "metadata": {
        "id": "Oj5e-nJDD6SC"
      },
      "source": [
        "### Breakout Session\n",
        "\n",
        "Questions:\n",
        "+ What happens if you add a string and an integer?\n",
        "+ What is the type of the result of dividing two integers?\n",
        "+ Assign two different integers to two separate variables. Add them together and store the result in a third variable.\n",
        "+ Now use the **input()** method to get two integers from the user instead. Print the result of adding the two integers.\n",
        "  + Is this the result you expected?\n",
        "+ What does **'A' < 'a'** return? Why do you think this is the case?\n",
        "+ What does **'foobar'.capitalize().upper().lower()** output? Why?"
      ]
    },
    {
      "cell_type": "code",
      "source": [
        "# adding a string and integer \n",
        "\n",
        "2 + \"banana\""
      ],
      "metadata": {
        "id": "5EwXfg5p5H68"
      },
      "execution_count": null,
      "outputs": []
    },
    {
      "cell_type": "code",
      "source": [
        "# find the type of the result of dividing two integers\n",
        "number = 2 /10 \n",
        "\n",
        "print(type(number))"
      ],
      "metadata": {
        "id": "TJQdnlxh5gw9"
      },
      "execution_count": null,
      "outputs": []
    },
    {
      "cell_type": "code",
      "source": [
        "# Assign to variables and store then together in a third variable \n",
        "\n",
        "num_1 = 365\n",
        "num_2 = 4000000\n",
        "\n",
        "total = num_1 + num_2\n",
        "print(total)"
      ],
      "metadata": {
        "id": "AX_EQLEO6DpV"
      },
      "execution_count": null,
      "outputs": []
    },
    {
      "cell_type": "code",
      "source": [
        "# use input() to get two numbers and add them \n",
        "\n",
        "int_1 = input('Enter Integer: \")\n",
        "int_2 = input('Enter Second Integer: ')\n",
        "\n",
        "print(int(int_1) + int(int_2))\n"
      ],
      "metadata": {
        "id": "DoiRbCA48-Lb"
      },
      "execution_count": null,
      "outputs": []
    },
    {
      "cell_type": "code",
      "source": [
        "# What does 'foobar'.capitalize().upper().lower() output? Add Why as a comment \n",
        "\n",
        "'foobar'.capitalize().upper().lower()"
      ],
      "metadata": {
        "id": "snyp3cBB6qci"
      },
      "execution_count": null,
      "outputs": []
    },
    {
      "cell_type": "markdown",
      "metadata": {
        "nbpresent": {
          "id": "2e321cc5-e0d9-4342-8cc2-5d0c593d8c30"
        },
        "id": "gx_3_STvD6SE"
      },
      "source": [
        "\n",
        "---------\n",
        "\n",
        "# Practice\n",
        "+ https://www.hackerrank.com/domains/python/py-introduction\n",
        "+ https://codecombat.com/\n",
        "\n",
        "# Free Stuff\n",
        "https://education.github.com/pack\n"
      ]
    }
  ]
}
{
  "nbformat": 4,
  "nbformat_minor": 0,
  "metadata": {
    "anaconda-cloud": {},
    "kernelspec": {
      "display_name": "Python 3",
      "language": "python",
      "name": "python3"
    },
    "language_info": {
      "codemirror_mode": {
        "name": "ipython",
        "version": 3
      },
      "file_extension": ".py",
      "mimetype": "text/x-python",
      "name": "python",
      "nbconvert_exporter": "python",
      "pygments_lexer": "ipython3",
      "version": "3.7.3"
    },
    "colab": {
      "name": "For_Loops.ipynb",
      "provenance": []
    }
  },
  "cells": [
    {
      "cell_type": "markdown",
      "metadata": {
        "id": "zI3XWt0bgDT8"
      },
      "source": [
        "# Introduction to Python -  July 21 2022\n",
        "\n",
        "### Logistics \n",
        "+ Lightning Talkings start Monday\n",
        "+ Assignment 1 goes out tonight (due Thursday 7/28 at 11:59pm)\n",
        "+ Project proposals (due no later than Thursday 7/28 at 11:59pm)\n",
        "\n",
        "### Project Proposals\n",
        "\n",
        "One-page description of what you want to do\n",
        "\n",
        "Including: \n",
        "+ Teammates (one submission per team of 4)\n",
        "+ What role each person will have with some detailed description of those roles and responsibilities\n",
        "+ What percentage of the total project each role will contribute (ideally 25% each)\n",
        "+ Data source, if any \n",
        "+ Python modules used, if any\n",
        "+ Pseudocode, if applicable\n",
        "\n",
        "[Signup Sheet](https://docs.google.com/spreadsheets/d/1aI-z48NFNbqXFPyiQxKfMP9PNpABNvUkkeJBOGVOSHQ/edit?usp=sharing) \n",
        "\n",
        "\n",
        "### Recap\n",
        "\n",
        "+ Text data (strings), numeric data (ints, floats), booleans, sequential (lists, tuples) and mapping (dict)\n",
        "+ Some manipulation and a lot indexing to get values \n",
        "\n",
        "\n",
        "### Agenda for today:\n",
        "- looping: **for loops** and **while loops**\n",
        "- examples covering core patterns of access\n",
        "- access of patterns based on data type"
      ]
    },
    {
      "cell_type": "markdown",
      "metadata": {
        "id": "jUQFlHcq3VG5"
      },
      "source": [
        "## Assert Statements"
      ]
    },
    {
      "cell_type": "markdown",
      "metadata": {
        "id": "GKijMqBT3VG5"
      },
      "source": [
        "These help you make sure your code is working the way it should.\n",
        "\n",
        "```python\n",
        "score = 20\n",
        "assert score > 0\n",
        "```\n",
        "\n",
        "Will continue without a problem. But...\n",
        "\n",
        "\n",
        "```python \n",
        "score = -10\n",
        "assert score > 0\n",
        "```\n",
        "\n",
        "Will throw an error. Personalize your error by passing in a string after your assert statement.\n",
        "\n",
        "\n",
        "```python\n",
        "score = 0\n",
        "assert score > 1, \"Please use only positive scores.\"\n",
        "```"
      ]
    },
    {
      "cell_type": "code",
      "metadata": {
        "id": "ZnnYUlne3VG6"
      },
      "source": [
        "score = -10\n",
        "assert score > 0, \"Please use only positive scores.\"\n",
        "print(score)"
      ],
      "execution_count": null,
      "outputs": []
    },
    {
      "cell_type": "markdown",
      "metadata": {
        "id": "VKqCfuAS3VG6"
      },
      "source": [
        "But you'll see this in your homework. \n",
        "```python\n",
        "\n",
        "# Replace '0' with the expression for each operation\n",
        "# ADDITION\n",
        "number1 = #ADD CODE TO GET FIRST INT\n",
        "number2 = #ADD CODE TO GET SECOND INT\n",
        "\n",
        "result_addition = 0\n",
        "\n",
        "assert result_addition == number1 + number2, \"{} != {} + {}\".format(result_addition, number1, number2)\n",
        "```"
      ]
    },
    {
      "cell_type": "markdown",
      "metadata": {
        "id": "akc_tyktgDT9"
      },
      "source": [
        "# Iteration\n",
        "# Repetitively apply some logic\n",
        "\n",
        "### Common patterns:\n",
        "+ Do **something** to/for each item in a sequence (ex. random patient assignment for a study)\n",
        "+ Repeat **something _n_** times (ex. count the number of objects in a list)\n",
        "+ Repeat **something** as long as some condition is True (or False) (ex. while x >= 10, do something)\n",
        "<br />  \n",
        "<br />\n",
        "\n",
        "\n",
        "**for Statement aka for Loop** \n",
        "\n",
        "**for** is a compound statement which is used to apply some logic to each item in any _**iterable**_ (string, list, dictionaries etc) and this process is called _**iterating**_. \n",
        "<br />\n",
        "+ Basic structure: \n",
        "\n",
        "```\n",
        "    for [variable_name] in [iterable_name]:  \n",
        "        [instructions]\n",
        "```\n",
        "```python\n",
        "    for item in iterable:  \n",
        "        <do_action(s)>\n",
        "```\n",
        "\n"
      ]
    },
    {
      "cell_type": "code",
      "source": [
        "# for loop example \n",
        "diabetes_tests = [\"Fasting plasma glucose (FPG) test\", \"A1C test\", \"Random plasma glucose (RPG) test\", \"Glucose challenge test\", \"Gestational Diabetes\"]\n",
        "\n",
        "for test in diabetes_tests:\n",
        "  print(test)\n",
        "\n",
        "\n",
        "\n"
      ],
      "metadata": {
        "id": "9erIXCVJmk0k"
      },
      "execution_count": null,
      "outputs": []
    },
    {
      "cell_type": "markdown",
      "metadata": {
        "id": "-JiqxsAfiRC9"
      },
      "source": [
        "# *for* loop pattern 1: Sequence scans\n",
        "\n",
        "**Example:**\n",
        "Given a list containing all the vowels, print each vowel one at a time"
      ]
    },
    {
      "cell_type": "markdown",
      "metadata": {
        "id": "xgCsbTZcgDUC"
      },
      "source": [
        "Using what we know so far this is one way of approaching the problem\n",
        "```python\n",
        "vowels = ['a', 'e', 'i', 'o', 'u']\n",
        "vowel = vowels[0]\n",
        "print(vowel)\n",
        "vowel = vowels[1]\n",
        "print(vowel)\n",
        "vowel = vowels[2]\n",
        "print(vowel)\n",
        "vowel = vowels[3]\n",
        "print(vowel)\n",
        "vowel = vowels[4]\n",
        "print(vowel)\n",
        "```"
      ]
    },
    {
      "cell_type": "markdown",
      "metadata": {
        "id": "HkxZvrvkgDT-"
      },
      "source": [
        "Let's do this with a for loop..."
      ]
    },
    {
      "cell_type": "code",
      "metadata": {
        "id": "PVg_nFh7gDT-"
      },
      "source": [
        "# vowels\n",
        "vowels = ['a', 'e', 'i', 'o', 'u']\n",
        "\n",
        "for vowel in vowels: \n",
        "  print(vowel)\n",
        "\n",
        "\n"
      ],
      "execution_count": null,
      "outputs": []
    },
    {
      "cell_type": "markdown",
      "source": [
        "Basically... a lot of what we have learned can be included in a for loop"
      ],
      "metadata": {
        "id": "D-ECY2b_ZZAV"
      }
    },
    {
      "cell_type": "code",
      "source": [
        "name = \"Genevieve\"\n",
        "\n",
        "for char in name: \n",
        "  print(char)"
      ],
      "metadata": {
        "id": "TDGZn2b-wxYc"
      },
      "execution_count": null,
      "outputs": []
    },
    {
      "cell_type": "code",
      "source": [
        "# Use an index to slice\n",
        "\n",
        "name = \"Genevieve\"\n",
        "\n",
        "for char in name[0:3]: \n",
        "  print(char)"
      ],
      "metadata": {
        "id": "xS4YzV98w7OO"
      },
      "execution_count": null,
      "outputs": []
    },
    {
      "cell_type": "code",
      "source": [
        "# use slice to reverse and printer uppercase\n",
        "\n",
        "name  = \"Genevieve\" \n",
        "\n",
        "for char in name [::-1]:\n",
        "   print(char.upper())"
      ],
      "metadata": {
        "id": "Cg1QucXFxAka"
      },
      "execution_count": null,
      "outputs": []
    },
    {
      "cell_type": "markdown",
      "metadata": {
        "id": "KiKU24IIgDUG"
      },
      "source": [
        "# General process of loop construction\n",
        "\n",
        "**Example**: Calculate the sum and product of a list of numbers\n",
        "\n",
        "_*Generalized Approach to looping problems*_\n",
        "+ _**Initialize**_ some variable(s) before the loop starts.\n",
        "+ _**Apply**_ some computation(s) for each item in the loop body, possibly changing the variables.\n",
        "+ _**Use**_ the results after the loop terminates.\n",
        "```python\n",
        "import math\n",
        "num_list = [1,2,3,4]          # Input\n",
        "sum_ = 0                      # Initialize\n",
        "prod = 1                     \n",
        "for num in num_list:          # Apply\n",
        "    sum_ = sum_ + num\n",
        "\tprod *= num                 # shorthand notation\n",
        "print(\"sum: \", sum_)          # Use\n",
        "print(\"prod: \", prod)\n",
        "print(\"AM: \", sum_/len(num_list))\n",
        "\n",
        "```\n",
        "\n",
        "**Notes**:\n",
        "- num is called **iteration variable**\n",
        "- sum and prod are called **accumulator variables**"
      ]
    },
    {
      "cell_type": "code",
      "metadata": {
        "id": "0IL4BVWUgDUH"
      },
      "source": [
        "#  Calculate the sum and product of a list of numbers\n",
        "\n",
        "import math\n",
        "num_list = [1,2,3,4]          # Input\n",
        "sum_ = 0                      # Initialize\n",
        "prod = 1                     \n",
        "for num in num_list:          # Apply\n",
        "  sum_ = sum_ + num\n",
        "  prod *= num                 # shorthand notation\n",
        "print(\"sum: \", sum_)          # Use\n",
        "print(\"prod: \", prod)\n",
        "print(\"AM: \", sum_/len(num_list))\n",
        "\n"
      ],
      "execution_count": null,
      "outputs": []
    },
    {
      "cell_type": "markdown",
      "metadata": {
        "id": "hiIPy00QgDUJ"
      },
      "source": [
        "## Trace of a computation\n",
        "\n",
        "```\n",
        "------------------------------  \n",
        "  __________________\n",
        " | num  |sum_| prod |\n",
        " |______|____|______|\n",
        " |  _   | 0  |  1   | <-- Initialize\n",
        " |______|____|______|\n",
        " |  1   | 1  |  1   | <-- for loop begins\n",
        " |______|____|______|\n",
        " |  2   | 3  |  2   | \n",
        " |______|____|______|\n",
        " |  3   | 6  |  6   |\n",
        " |______|____|______|\n",
        " |  4   | 10 |  24  | <-- for loop ends\n",
        " |______|____|______|\n",
        "------------------------------\n",
        "\n",
        "```"
      ]
    },
    {
      "cell_type": "markdown",
      "metadata": {
        "id": "e03jxg8BgDUK"
      },
      "source": [
        "# *for* loop pattern 2: range function\n",
        "+ Greater flexibility - access elements by index and reference rather instead of direct access\n",
        "\n",
        "```\n",
        "------------------------------\n",
        "  ___________________________\n",
        " | Index| 0  | 1  | 2  | 3  |\n",
        " |______|____|___ |____|___ |\n",
        " | Data | 5  | 10 | 15 | 20 |\n",
        " |______|____|____|____|____|\n",
        "------------------------------\n",
        "\n",
        "```\n",
        "\n",
        "+ Built-in **range()** function returns a range object\n",
        "```python\n",
        "x = range(10)\n",
        "type(x)\n",
        "```\n",
        "\n",
        "- uses \"lazy evaluation,\" in which the object is not produced until needed. \n",
        "  - if we print x at this point, Python returns:\n",
        "  range(0,10), which is a representation of a range object\n",
        "  - the object has not yet been fully called and, as a result, has not been fully produced (does not contain the numbers between 0 and 9)\n",
        "- to produce the range, we can use list(x) to auto-build it"
      ]
    },
    {
      "cell_type": "code",
      "source": [
        "x = range(10)\n",
        "print(x)\n",
        "print(type(x))\n",
        "print(list(x))"
      ],
      "metadata": {
        "id": "HaH0NxBD_8nD"
      },
      "execution_count": null,
      "outputs": []
    },
    {
      "cell_type": "markdown",
      "source": [
        "The range function normally takes a starting value and an ending value as its arguments -- range(0,10). If the starting value is not included, Python assumes the range starts at 0. "
      ],
      "metadata": {
        "id": "Ik4xIP2wCO6I"
      }
    },
    {
      "cell_type": "code",
      "source": [
        "# The range() function produces a list of numbers within the range you specify\n",
        "# The list() function is another way of creating a list\n",
        "\n",
        "# my numbers example \n",
        "\n",
        "my_numbers = list(range(0,20))\n",
        "\n",
        "for number in my_numbers: \n",
        "  if number == 5:\n",
        "    print(\"I love 5!\")\n",
        "  else:\n",
        "    print(number)\n"
      ],
      "metadata": {
        "id": "3vdnlR12ByYP"
      },
      "execution_count": null,
      "outputs": []
    },
    {
      "cell_type": "markdown",
      "source": [
        "In addition to the start and stop arguments, range() also accepts a third, which sets the \"step\". "
      ],
      "metadata": {
        "id": "DvFAuejFAGKk"
      }
    },
    {
      "cell_type": "code",
      "source": [
        "# help(range)\n",
        "\n",
        "# range can take 3 arguments, start, stop, step\n",
        "# stop is required \n",
        "\n",
        "my_even_numbers = list(range(0,20,2))\n",
        "print(my_even_numbers)\n",
        "\n"
      ],
      "metadata": {
        "id": "G-cYG5qKxr-Q"
      },
      "execution_count": null,
      "outputs": []
    },
    {
      "cell_type": "code",
      "metadata": {
        "id": "9fk53z8_gDUN"
      },
      "source": [
        "x = ['a','b','c']\n",
        "\n",
        "for index in range(len(x)):\n",
        "    print(index, x[index])"
      ],
      "execution_count": null,
      "outputs": []
    },
    {
      "cell_type": "code",
      "source": [
        "# you can use a length of a list as your stop\n",
        "\n",
        "colors = [\"green\", \"blue\", \"purple\", \"orange\", \"pink\"]\n",
        "\n",
        "for i in range(0,len(colors),2):\n",
        "  print(colors[i])"
      ],
      "metadata": {
        "id": "iB632H032l3n"
      },
      "execution_count": null,
      "outputs": []
    },
    {
      "cell_type": "markdown",
      "source": [
        "Using the length of an iterable to set a range and iterating across that range allows us to carefully access each index of that iterable. The \"for x in y\" syntax traverses an iterable by reference, the use of an index traversing a range allows the pinpointing of a specific index."
      ],
      "metadata": {
        "id": "IjgMKXvqE6z3"
      }
    },
    {
      "cell_type": "markdown",
      "metadata": {
        "id": "dWUjqdQwlSMr"
      },
      "source": [
        "## Iterating over Lists\n",
        "\n"
      ]
    },
    {
      "cell_type": "code",
      "source": [
        "# removing multiple elements from a list \n",
        "\n",
        "list = ['Na', 'He', 'Li', 'K', 'Fe', 'Au']\n",
        "print(f\"Original list: {list}\")\n",
        "to_remove = ['Au', 'K']\n",
        "\n",
        "for item in list:\n",
        "  if item in to_remove:\n",
        "    list.remove(item)\n",
        "\n",
        "print(f\"modified version: {list}\")"
      ],
      "metadata": {
        "id": "bto5S7yjyQxv"
      },
      "execution_count": null,
      "outputs": []
    },
    {
      "cell_type": "code",
      "source": [
        "# desired translations: a-t, t-a, g-c, c-g\n",
        "\n",
        "# initialize empty list for translated genes\n",
        "translated_genes =[]\n",
        "\n",
        "# docstring\n",
        "'''translation process using the 'translate' method of the String class\n",
        "method can take a custom dictionary for desired translations\n",
        "the .maketrans() method can take a custom dictionary and map ASCII (or UTF-8) codes for replacement purposes\n",
        "the .translate() method carries out the substitutions following the map created by the .maketrans() step'''\n",
        "\n",
        "genes = [\"atgc\", \"gcta\", \"gcat\", \"ggat\"]\n",
        "\n",
        "for item in genes:\n",
        "  trans_dict = {'a':'t', 't':'a', 'g': 'c', 'c':'g'}\n",
        "  translation = item.maketrans(trans_dict)\n",
        "  translated_genes.append(item.translate(translation))\n",
        "\n",
        "print(translated_genes)"
      ],
      "metadata": {
        "id": "7GE-ndubyeWu"
      },
      "execution_count": null,
      "outputs": []
    },
    {
      "cell_type": "markdown",
      "source": [
        "## Iterating Over Dictionaries\n",
        "Not only can we loop through lists, we can loop through dictionaries, too. Looping through dictionaries is slightly different though –– we iterate through it one **key-value** pair at a time:"
      ],
      "metadata": {
        "id": "6nfbmAvGy7se"
      }
    },
    {
      "cell_type": "code",
      "source": [
        "# Notice that in order to loop through a dictionary's key-value pairs, we have\n",
        "# to append .items() to the name of the dictionary\n",
        "\n",
        "\n",
        "person = {'name': 'Becky', \n",
        "          'surname': 'Chambers', \n",
        "          'contact': \n",
        "              {\n",
        "              'phone': {'office': '415-456-7890',\n",
        "                        'cell': '628-789-0123'\n",
        "                       },\n",
        "              'email': ['becky@gmail.com', 'becky.chambers@writers.com']\n",
        "              }\n",
        "          }\n",
        "\n",
        "\n",
        "for info in person.items():\n",
        "  print(info)"
      ],
      "metadata": {
        "id": "eaEUDjo-zFPO"
      },
      "execution_count": null,
      "outputs": []
    },
    {
      "cell_type": "markdown",
      "source": [
        "Being able to loop is helpful for instances when we have data structures insidide other data structures. For example, a list with dictionaries in it."
      ],
      "metadata": {
        "id": "SUSUWMT7Gzen"
      }
    },
    {
      "cell_type": "code",
      "source": [
        "# Looping through a list that contains dictonaries\n",
        "\n",
        "Patient_1 = {\n",
        "    \"name\" : \"Alice Wong\",\n",
        "    \"patient_id\": \"001\",\n",
        "    \"currently_enrolled\": True,\n",
        "    \"location\": \"Brooklyn\",\n",
        "    \"clinic\": \"Family Care\",\n",
        "    \"diagnosis\": [\"gestational diabetes\", \"pre-eclampsia\"]\n",
        "}\n",
        "\n",
        "Patient_2 = {\n",
        "    \"name\" : \"Xiao Zhan\",\n",
        "    \"netid\": \"002\",\n",
        "    \"currently_enrolled\": True,\n",
        "    \"location\": \"Brooklyn\",\n",
        "    \"clinic\": \"Park Slope Clinic\",\n",
        "    \"diagnosis\": [\"diabetes mellitus\", \"hypertension\"]\n",
        "}\n",
        "\n",
        "#create a list of dictionaries using concatenation\n",
        "Patients = [Patient_1, Patient_2]\n",
        "\n",
        "# print patient_1's name  \n",
        "print(Patients[0]['name'])\n",
        "\n",
        "# for loop to get both patients' names \n",
        "for patient in Patients:\n",
        " print(f'{patient[\"name\"]}')\n",
        "\n",
        "\n"
      ],
      "metadata": {
        "id": "gVuRXwfuygO6"
      },
      "execution_count": null,
      "outputs": []
    },
    {
      "cell_type": "code",
      "source": [
        "# now let's use a conditional \n",
        "\n",
        "for patient in Patients:\n",
        "  if patient[\"clinic\"] == \"Park Slope Clinic\":\n",
        "    print(patient[\"name\"])\n"
      ],
      "metadata": {
        "id": "F0QEm70KyoDt"
      },
      "execution_count": null,
      "outputs": []
    },
    {
      "cell_type": "code",
      "source": [
        "# let's try it with three patients and expand our conditional! \n",
        "\n",
        "Patient_1 = {\n",
        "    \"name\" : \"Alice Wong\",\n",
        "    \"patient_id\": \"001\",\n",
        "    \"currently_enrolled\": True,\n",
        "    \"location\": \"Brooklyn\",\n",
        "    \"clinic\": \"Family Care\",\n",
        "    \"diagnosis\": [\"gestational diabetes\", \"pre-eclampsia\"]\n",
        "}\n",
        "\n",
        "Patient_2 = {\n",
        "    \"name\" : \"Xiao Zhan\",\n",
        "    \"netid\": \"002\",\n",
        "    \"currently_enrolled\": True,\n",
        "    \"location\": \"Brooklyn\",\n",
        "    \"clinic\": \"Park Slope Clinic\",\n",
        "    \"diagnosis\": [\"diabetes mellitus\", \"hypertension\"]\n",
        "}\n",
        "\n",
        "Patient_3 = {\n",
        "    \"name\" : \"Natalie Turlich\",\n",
        "    \"netid\": \"003\",\n",
        "    \"currently_enrolled\": False,\n",
        "    \"location\": \"Manhattan\",\n",
        "    \"clinic\": \"Park Slope Clinic\",\n",
        "    \"diagnosis\": [\"vascular dementia\", \"hypertension\"]\n",
        "}\n",
        "\n",
        "Patients = [Patient_1, Patient_2, Patient_3]\n",
        "\n",
        "# expanded conditional \n",
        "\n",
        "for patient in Patients:\n",
        "  if(patient[\"location\"]== \"Manhattan\" or patient[\"location\"] == \"Brooklyn\") and \"hypertension\" in patient[\"diagnosis\"]:\n",
        "    print(patient[\"name\"])\n",
        "\n",
        "\n"
      ],
      "metadata": {
        "id": "nEsACB8Bysfu"
      },
      "execution_count": null,
      "outputs": []
    },
    {
      "cell_type": "markdown",
      "source": [
        "### More Conditionals!"
      ],
      "metadata": {
        "id": "Ajy0iA50zpfa"
      }
    },
    {
      "cell_type": "markdown",
      "source": [
        "In the next code block, we will see the randint (or random integer) method. To access it, we import it from the random module. It then allows us to generate a random number between the start and stop range we set. Let's see how we might use this to assign patients to various treatment or control groups randomly."
      ],
      "metadata": {
        "id": "fohdlD0Ez2DL"
      }
    },
    {
      "cell_type": "code",
      "source": [
        "#assign patients to trial groups randomly\n",
        "\n",
        "from random import randint\n",
        "\n",
        "patient_names = [\"Eddy de Jong\", \"Lee Jones\", \"Kristin Donnelly\", \"Jose Andreas\", \"Raquel Arroyo\", \"Zhiqui Zou\", \"Brian Lee\", \"Emily Beal\", \"Shanice Jones\", \"Marcus Greene\", \"Sandra Lee\", \"Beatrice Peterson\", \"Cathryn Horton\", \"Evan Noguchi\", \"Dante Morris\", \"Basem Ali\", \"Bernice Greene\", \"Ruth Meyer\", \"Harry Harrison\", \"Stephen King\"]\n",
        "Treatment_A_count = 0\n",
        "Treatment_B_count = 0\n",
        "Treatment_C_count = 0\n",
        "\n",
        "trial_groups = {}\n",
        "\n",
        "for patient in patient_names:\n",
        "  selection_int = randint(0,60)\n",
        "\n",
        "  if selection_int <= 19:\n",
        "    trial_groups[patient] = \"Treatment_A\"\n",
        "    Treatment_A_count += 1\n",
        "  if 20 <= selection_int <= 39:\n",
        "    trial_groups[patient] = \"Treatment_B\"\n",
        "    Treatment_B_count += 1\n",
        "  if  selection_int >= 40:\n",
        "    trial_groups[patient] = \"Control\"\n",
        "    Treatment_C_count += 1\n",
        "\n",
        "# print(len(patient_names))\n",
        "# print(f'Total A: {Treatment_A_count}\\nTotal B: {Treatment_B_count}\\nTotal C: {Treatment_C_count}')\n",
        "percentage_A = (Treatment_A_count/len(patient_names))*100\n",
        "percentage_B = (Treatment_B_count/len(patient_names))*100\n",
        "percentage_C = (Treatment_C_count/len(patient_names))*100\n",
        "\n",
        "print(f'Treament A %: {percentage_A}\\nTreatment B %: {percentage_B}\\nTreatment C %: {percentage_C}')\n",
        "\n",
        "for person in  trial_groups.items():\n",
        "  print(person)"
      ],
      "metadata": {
        "id": "nNPHPUB8z6jN"
      },
      "execution_count": null,
      "outputs": []
    },
    {
      "cell_type": "markdown",
      "metadata": {
        "id": "bOx9lzaLgDUb"
      },
      "source": [
        "## Nested Loops\n",
        "\n",
        "Putting a loop inside another loop.\n",
        "\n",
        "```python\n",
        "for j in range(5):\n",
        "    print('j: {}'.format(j))\n",
        "    for i in range(2):\n",
        "        print('\\ti: {}'.format(i))\n",
        "```\n",
        "\n",
        "The inner loop will be repeated for each iteration of the outer loop.\n",
        "\n",
        "You can calculate the number of times print will be called.\n",
        "+ Five times in the outer loop\n",
        "+ The inner loop is called 5 times\n",
        "  + Twice for each inner iteration\n",
        "+ The total number of prints: outer + inner * outer = 5 + 10 = 15"
      ]
    },
    {
      "cell_type": "code",
      "metadata": {
        "id": "hZP29WE_gDUc"
      },
      "source": [
        "for j in range(5):\n",
        "  print('j: {}'.format(j))\n",
        "  for i in range(2):\n",
        "    print('\\ti: {}'.format(i))"
      ],
      "execution_count": null,
      "outputs": []
    },
    {
      "cell_type": "markdown",
      "metadata": {
        "id": "KsRYzKsggDVQ"
      },
      "source": [
        "# While loops\n",
        "\n",
        "+ Basic format:\n",
        "```python\n",
        "while BOOLEAN_EXPRESSION:\n",
        "    STATEMENTS\n",
        "```\n",
        "\n",
        "+ The loop will continue while the boolean expression remains true.\n",
        "+ Once the boolean expression is false the loop will exit\n",
        "+ The boolean does not have to be set to True for the initial condition. It can be set to False and loop until it becomes true"
      ]
    },
    {
      "cell_type": "code",
      "source": [
        "#another type of loop structure is the \"while\". It combines looping with condition checking.\n",
        "counter = 10\n",
        "while counter >= 0:\n",
        "  print(counter)\n",
        "  counter -= 1"
      ],
      "metadata": {
        "id": "csQ_RRzuztQU"
      },
      "execution_count": null,
      "outputs": []
    },
    {
      "cell_type": "markdown",
      "source": [
        "Here, we set a counter equal to 10 as our initial condition. We then use the \"while\" reserved word to set a loop in motion. The loop will continue until the condition described by the \"while\" becomes true. We then print the counter. Finally, we decrement the counter. This last step is important. By subtracting 1 each time, we help ensure that the condition specified in the \"while\" will eventually be met and end the loop. If that condition is not met, we get an \"infinite loop\" and the program will continue printing numbers until the system runs out of memory.\n",
        "\n",
        "We can also use while loops to continually test to see whether or not a condition has been met and then stop, or take some other action, if and when it is."
      ],
      "metadata": {
        "id": "GdPN9MotzxTa"
      }
    },
    {
      "cell_type": "code",
      "source": [
        "from random import randint\n",
        "counter = 0\n",
        "\n",
        "meets_condition = False\n",
        "\n",
        "while meets_condition == False:\n",
        "  random_number = randint(0,100)\n",
        "  if random_number == 85:\n",
        "    print(f'The scanned number is {random_number}. Our condition is met.')\n",
        "    print(f'Number of iterations required for this trial: {counter}')\n",
        "    meets_condition = True\n",
        "  else:\n",
        "    print(f'The scanned number is {random_number}. Our condition is not met.')\n",
        "    counter += 1"
      ],
      "metadata": {
        "id": "C9Td1SD8z1Rc"
      },
      "execution_count": null,
      "outputs": []
    },
    {
      "cell_type": "markdown",
      "metadata": {
        "id": "ESz5xiqvgDVU"
      },
      "source": [
        "## Why have two kinds of looping?\n",
        "\n",
        "+ for loops\n",
        "    + require knowledge on the number of iterations when declaring the loop\n",
        "+ while loops\n",
        "    + Will loop until a condition is met\n",
        "    \n",
        "Example:\n",
        "\n",
        "+ Find the largest number in a list of numbers?\n",
        "    + for loop\n",
        "+ Run a simulation until a certain mean squared error is achieved\n",
        "    + while loop"
      ]
    },
    {
      "cell_type": "markdown",
      "metadata": {
        "id": "3t5b7E9ugDVU"
      },
      "source": [
        "## Infinite loops\n",
        "\n",
        "+ It is possible to create while loops that will never stop.\n",
        "    + These types of loops are known as infinite loops\n",
        "    + This happens only if the loop condition always remains true or false with no way to change its condition<br>  \n",
        "**Note:** when on cmd-line / Terminal, use Ctrl+C to break out of an infinite loop to stop the program. In jupyter notebook, use the square \"stop\" button on top to stop execution of a running cell.\n",
        "\n",
        "```python\n",
        "i = 0\n",
        "while i < 5:\n",
        "    print(i)\n",
        "```"
      ]
    },
    {
      "cell_type": "markdown",
      "source": [
        "# Breakout Rooms"
      ],
      "metadata": {
        "id": "tN3CmbqfBXKo"
      }
    },
    {
      "cell_type": "code",
      "source": [
        "# combine the list 2 with list 1 using concatenation\n",
        "\n",
        "list_1 = [\"Biology\", \"Chemistry\", \"Mathematics\", \"Physics\"]\n",
        "list_2 = [\"Literature\", \"History\", \"Political Science\", \"Film\"]\n",
        "\n",
        "list_1 = list_1 + list_2\n",
        "list_1\n",
        "\n"
      ],
      "metadata": {
        "id": "u-H7jE0fBXKo"
      },
      "execution_count": null,
      "outputs": []
    },
    {
      "cell_type": "code",
      "source": [
        "# now put items from list 3 into list 4 using a for loop\n",
        "\n",
        "list_3 = [\"Biology\", \"Chemistry\", \"Mathematics\", \"Physics\"]\n",
        "list_4 = [\"Literature\", \"History\", \"Political Science\", \"Film\"]\n",
        "\n",
        "for item in list_3:\n",
        "  list_4.append(item)\n",
        "list_4\n"
      ],
      "metadata": {
        "id": "Y6h9uyfGBXKo"
      },
      "execution_count": 2,
      "outputs": []
    },
    {
      "cell_type": "code",
      "source": [
        "#use a while loop to create and print a counter that goes from 0 to 50\n",
        "\n",
        "counter = 0\n",
        "while counter <= 50:\n",
        "  print(counter)\n",
        "  counter += 1\n"
      ],
      "metadata": {
        "id": "YRv0K-cFBXKo"
      },
      "execution_count": null,
      "outputs": []
    },
    {
      "cell_type": "code",
      "source": [
        "#use a for loop to check a list for elements from another list. \n",
        "#If the 'target' elements are present, print that you are removing them and then remove them.\n",
        "\n",
        "base_list = [\"Asparagus\", \"Beets\", \"Corn\", \"Cabbage\", \"Zucchini\", \"Bug Spray\", \"Bike Tire Tubes\", \"Mushrooms\", \"Kale\", \"Carrots\"]\n",
        "target_list = [\"Bug Spray\", \"Bike Tire Tubes\"]\n",
        "\n",
        "# for item in base_list:      #bug! \n",
        "#   if item in target_list:\n",
        "#     base_list.remove(item)\n",
        "#     print(f'{item} found. Removing {item} from list.')  \n",
        "# base_list\n",
        "\n",
        "for item in target_list:\n",
        "   if item in base_list:\n",
        "     print(item+\" is removed\")\n",
        "     base_list.remove(item)\n",
        "\n"
      ],
      "metadata": {
        "id": "0ekdRoK4BXKp",
        "colab": {
          "base_uri": "https://localhost:8080/"
        },
        "outputId": "17e6b9bd-729f-410a-8113-2d271307b424"
      },
      "execution_count": 6,
      "outputs": [
        {
          "output_type": "stream",
          "name": "stdout",
          "text": [
            "Bug Spray is removed\n",
            "Bike Tire Tubes is removed\n"
          ]
        }
      ]
    }
  ]
}
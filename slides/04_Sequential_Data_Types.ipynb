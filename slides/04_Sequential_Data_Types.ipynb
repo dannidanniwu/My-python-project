{
  "nbformat": 4,
  "nbformat_minor": 0,
  "metadata": {
    "anaconda-cloud": {},
    "kernelspec": {
      "display_name": "Python 3",
      "language": "python",
      "name": "python3"
    },
    "language_info": {
      "codemirror_mode": {
        "name": "ipython",
        "version": 3
      },
      "file_extension": ".py",
      "mimetype": "text/x-python",
      "name": "python",
      "nbconvert_exporter": "python",
      "pygments_lexer": "ipython3",
      "version": "3.8.2"
    },
    "colab": {
      "name": "04_Sequential_Data_Types.ipynb",
      "provenance": [],
      "collapsed_sections": []
    }
  },
  "cells": [
    {
      "cell_type": "markdown",
      "metadata": {
        "id": "Qt1fjEDX3VF3"
      },
      "source": [
        "# Introduction to Python - Lecture 04 - 18 July 2022\n",
        "## Story so far...\n",
        "+ primitive python objects / data-types and operations (numbers, strings)\n",
        "+ logical / boolean operators\n",
        "+ variables and variable naming conventions (pep8, reserved keywords)\n",
        "+ expressions and simple statements (assignment)\n",
        "+ misc (user input, comments, mutability, terminology)\n",
        "+ Compound statements: if/else conditionals\n",
        "<br />\n",
        "\n",
        "\n",
        "# Today's topics\n",
        "\n",
        "## Sequential data types\n",
        "+ Introduce composite objects types (data structures) -> way to organize data for processing\n",
        "    + lists  \n",
        "    + dictionaries\n",
        "    + sets\n",
        "    + tuples\n",
        "    \n",
        "## Assert statements \n",
        "+ These are at the end of each code block in your assignments \n",
        "\n",
        "\n",
        "<br />\n"
      ]
    },
    {
      "cell_type": "markdown",
      "metadata": {
        "id": "WP2VqZeB3VF9"
      },
      "source": [
        "# Sequential Data Types\n",
        "\n",
        "It is often necessary to group information together. This is the function of sequential data types.\n",
        "The primary difference between different sequential types is how data is accessed and stored.\n",
        "\n",
        "## Strings\n",
        "\n",
        "+ Strings are sequences of characters.\n",
        "+ Each character in a string is assigned a specific index.\n",
        "  + The first index is always **0**\n",
        "  + This always corresponds to the leftmost character\n",
        "  + Each subsequent character will have an index one greater than the previous index.\n",
        " \n",
        "Eg:\n",
        "\n",
        "\n",
        "String: 'ABCDEF'\n",
        "\n",
        "|String|A|B|C|D|E|F|\n",
        "|------|-|-|-|-|-|-|\n",
        "|Index |0|1|2|3|4|5|\n",
        "\n",
        "Each character can be accessed using the relavant index placed in square brackets [] after the string.\n",
        "\n",
        "```python\n",
        "'ABCDEF'[index]\n",
        "```"
      ]
    },
    {
      "cell_type": "code",
      "metadata": {
        "scrolled": true,
        "id": "XL9Mc_Qp3VF-"
      },
      "source": [
        "# variable with index \n",
        "\n",
        "my_name = \"Genevieve\"\n",
        "my_name[0]\n",
        "\n",
        "my_name[0:8]\n",
        "\n",
        "print(len(my_name))\n"
      ],
      "execution_count": null,
      "outputs": []
    },
    {
      "cell_type": "markdown",
      "metadata": {
        "id": "w0wU2YZ63VGF"
      },
      "source": [
        "Don't get caught up on the difference between **length** and **index**\n",
        "\n",
        "Eg:\n",
        "\n",
        "'ABCDEF' **has indices from 0 to 5**, but calling `len('ABCDEF')` will returns ***6***\n",
        "\n",
        "\n",
        "|String|A|B|C|D|E|F|\n",
        "|------|-|-|-|-|-|-|\n",
        "|Index |0|1|2|3|4|5|\n",
        "\n"
      ]
    },
    {
      "cell_type": "code",
      "metadata": {
        "scrolled": true,
        "id": "obKu2gWA3VGG"
      },
      "source": [
        ""
      ],
      "execution_count": null,
      "outputs": []
    },
    {
      "cell_type": "markdown",
      "metadata": {
        "id": "ad8MKf6v3VGI"
      },
      "source": [
        "Leaving either the start or end blank will result in the first or last index being used repectively.\n",
        "\n",
        "```python\n",
        "'ABCDEF'[start:]\n",
        "'ABCDEF'[:end]\n",
        "```"
      ]
    },
    {
      "cell_type": "code",
      "metadata": {
        "id": "GvM2sqNh3VGJ"
      },
      "source": [
        "# len vs. index \n",
        "name = \"Genevieve\"\n",
        "print(len(name)) \n",
        "name[0:9] # remember, \"up to, but not including\"\n"
      ],
      "execution_count": null,
      "outputs": []
    },
    {
      "cell_type": "code",
      "source": [
        "name[0:]"
      ],
      "metadata": {
        "id": "meSY4stZjYnB"
      },
      "execution_count": null,
      "outputs": []
    },
    {
      "cell_type": "code",
      "source": [
        "name[:9]"
      ],
      "metadata": {
        "id": "djp9saXLjaed"
      },
      "execution_count": null,
      "outputs": []
    },
    {
      "cell_type": "markdown",
      "metadata": {
        "id": "Ctvd-x_03VGN"
      },
      "source": [
        "#### Practice"
      ]
    },
    {
      "cell_type": "code",
      "metadata": {
        "id": "5zO7z9sZ3VGO"
      },
      "source": [
        "# Print B\n",
        "sequence = 'ABCDEF'\n",
        "\n",
        "print(sequence[1])\n"
      ],
      "execution_count": null,
      "outputs": []
    },
    {
      "cell_type": "code",
      "metadata": {
        "id": "7A0lM3Jk3VGQ"
      },
      "source": [
        "# Print E\n",
        "\n",
        "sequence = 'ABCDEF'\n",
        "print(sequence[4])\n"
      ],
      "execution_count": null,
      "outputs": []
    },
    {
      "cell_type": "code",
      "metadata": {
        "id": "Jp2iZuUj3VGT"
      },
      "source": [
        "# Print CD\n",
        "\n",
        "sequence = 'ABCDEF'\n",
        "print(sequence[2:4])\n"
      ],
      "execution_count": null,
      "outputs": []
    },
    {
      "cell_type": "code",
      "metadata": {
        "id": "i-MHOzsa3VGV"
      },
      "source": [
        "# Print ABC\n",
        "\n",
        "sequence = 'ABCDEF'\n",
        "print(sequence[0:3])\n",
        "\n",
        "\n"
      ],
      "execution_count": null,
      "outputs": []
    },
    {
      "cell_type": "code",
      "metadata": {
        "id": "msBYbYCC3VGX"
      },
      "source": [
        "# Print DEF\n",
        "\n",
        "sequence = 'ABCDEF'\n",
        "print(sequence[3:])\n",
        "\n"
      ],
      "execution_count": null,
      "outputs": []
    },
    {
      "cell_type": "code",
      "metadata": {
        "id": "gOJYomzm3VGY"
      },
      "source": [
        "# Print the first three letters of your name from the ABC string\n",
        "sequence = 'ABCDEFGHIJKLMNOPQRSTUVWXYZ'\n",
        "\n",
        "subseq = [sequence[6], sequence[4], sequence[13], sequence[4], sequence[21], sequence[8], sequence[4], sequence[21],sequence[4]]\n",
        "print(subseq)\n",
        "\n",
        "\n"
      ],
      "execution_count": null,
      "outputs": []
    },
    {
      "cell_type": "markdown",
      "metadata": {
        "id": "CEBoaFV23VGa"
      },
      "source": [
        "# Lists\n",
        "\n",
        "+ Another sequence data type (like strings), that stores sequence of objects. For ex.\n",
        "    ```python\n",
        "    [1, 2, 3, 4, 5]\n",
        "    ```\n",
        "+ Elements in a list have position and order, like what we saw with strings\n",
        "\n",
        "|Index |0|1|2|3|4|\n",
        "|------|-|-|-|-|-|\n",
        "|List Values |1|2|3|4|5|\n",
        "\n",
        "+ Elements / items / components of a list can be of **any type**, including **mixed**.  \n",
        "    ```python\n",
        "    [1, 2, 'a', [3, 4]]\n",
        "    ```\n",
        "   \n",
        "   \n",
        "|Index |0|1|2|3|\n",
        "|------|-|-|-|-|\n",
        "|List Values |1|2|'a'|[3, 4]|\n",
        "|Data Type |Int|Int|Str|List|\n",
        "\n",
        "\n",
        "+ Some examples from real world:\n",
        "    - List of employees in a company\n",
        "    - List of genes associated with a disease\n",
        "    - List of book recommendations for a user\n",
        "    - List of items in an order basket\n",
        "    - List of all citi-bike stations in the city [link](https://gbfs.citibikenyc.com/gbfs/en/station_information.json)\n",
        "<br />\n",
        "+ **Key characteristics**\n",
        "    - Elements have position and order (**ordered collection**)\n",
        "    - Elements can be heterogeneous (**arbitrarily typed**)  \n",
        "    - Lists can expand or contract dynamically\n",
        "    - can be single- or multi-dimensional\n",
        "<br />"
      ]
    },
    {
      "cell_type": "code",
      "source": [
        "# Example of a list \n",
        "\n",
        "diabetes_tests = [\"Fasting plasma glucose (FPG) test\", \"A1C test\", \"Random plasma glucose (RPG) test\"]\n",
        "print(len(diabetes_tests))\n",
        "\n",
        "print(diabetes_tests[0])\n",
        "print(diabetes_tests[1].title())\n",
        "\n",
        "print(diabetes_tests[0:2])\n",
        "\n",
        "print(diabetes_tests[-1])"
      ],
      "metadata": {
        "id": "GCr6Np384fYs"
      },
      "execution_count": null,
      "outputs": []
    },
    {
      "cell_type": "markdown",
      "metadata": {
        "id": "jSyz3Ug13VGb"
      },
      "source": [
        "# Common List operations:\n",
        "    - Create\n",
        "    - Access elements or chunks\n",
        "    - Modify elements or chunks\n",
        "    - Check membership of an element\n",
        "    - Find position / index of a specific element\n",
        "    - Traverse through the list and do something\n",
        "    - Make it bigger / smaller (add and remove elements)\n",
        "    - Sort / reverse\n",
        "    - ...  \n",
        "\n",
        "```python\n",
        "help(list)\n",
        "help(list.index)\n",
        "```\n",
        "\n",
        "+ Some generic operations\n",
        "    - len(x), sum(x), max(x), etc.  \n",
        "<br />\n",
        "+ User-defined operations (will be covered later - e.g., list comprehension, traversing with a for loop)"
      ]
    },
    {
      "cell_type": "code",
      "metadata": {
        "id": "JJ8aLfcg3VGb"
      },
      "source": [
        "# help(list)\n",
        "\n",
        "help(list.index) # help on a particular method \n"
      ],
      "execution_count": null,
      "outputs": []
    },
    {
      "cell_type": "markdown",
      "metadata": {
        "id": "G56k6lxC3VGd"
      },
      "source": [
        "# Lists: Create\n",
        "\n",
        "\n",
        "```python\n",
        "x = [1,2,3,4,5]\t\t    # direct assignment\n",
        "y = [1, 'a', [1,2,3]]\n",
        "\n",
        "z = []                     # creates an empty list\n",
        "\n",
        "print(type(x), x)\n",
        "print(type(y), y)\n",
        "\n",
        "```"
      ]
    },
    {
      "cell_type": "code",
      "metadata": {
        "id": "oshTUm153VGd"
      },
      "source": [
        "# direct assignment \n",
        "\n",
        "students = ['Brendan','May','Wally','Steven','Max']\n",
        "print(students)\n",
        "\n",
        "#  assignment by method\n",
        "x = list((\"apple\", \"banana\", \"orange\"))\n",
        "print(x)\n"
      ],
      "execution_count": null,
      "outputs": []
    },
    {
      "cell_type": "markdown",
      "metadata": {
        "id": "KlkQEAmC3VGf"
      },
      "source": [
        "# Lists: Access and Modify\n",
        "+ All sequences (lists, strings, ...) support two basic access operations:\n",
        "    - Indexing\n",
        "    - Slicing\n",
        "    \n",
        "\n",
        "Let's take this list of students for example: "
      ]
    },
    {
      "cell_type": "code",
      "source": [
        "students = ['Brendan','May','Wally','Steven','Max']"
      ],
      "metadata": {
        "id": "_L-tZhEtv60P"
      },
      "execution_count": null,
      "outputs": []
    },
    {
      "cell_type": "code",
      "source": [
        "# indexing starts with '0'\n",
        "\n",
        "print(students[0])\n"
      ],
      "metadata": {
        "id": "zVPuDEpEuw06"
      },
      "execution_count": null,
      "outputs": []
    },
    {
      "cell_type": "code",
      "source": [
        "# index 1\n",
        "\n",
        "print(students[1])"
      ],
      "metadata": {
        "id": "rMgGE0NMuw8R"
      },
      "execution_count": null,
      "outputs": []
    },
    {
      "cell_type": "code",
      "source": [
        "# negative indices go backwards\n",
        "\n",
        "print(students[-1])\n",
        "\n"
      ],
      "metadata": {
        "id": "xur1R_ffuxCw"
      },
      "execution_count": null,
      "outputs": []
    },
    {
      "cell_type": "code",
      "source": [
        "# out of range raises IndexError: You're responsible to respect list length\n",
        "print(students[10])\n"
      ],
      "metadata": {
        "id": "CeI_g8HAuxJE"
      },
      "execution_count": null,
      "outputs": []
    },
    {
      "cell_type": "code",
      "source": [
        "# slicing syntax: [start_idx : stop_idx]; excludes stop_idx; \n",
        "\n",
        "print(students[1:3])\n"
      ],
      "metadata": {
        "id": "isirjokHuxOl"
      },
      "execution_count": null,
      "outputs": []
    },
    {
      "cell_type": "code",
      "source": [
        "# just like we saw in strings\n",
        "\n",
        "print(students[3:])  # just like we saw in strings\n",
        "print(students[:4])\n",
        "\n"
      ],
      "metadata": {
        "id": "1KPQ6h-LuxXb"
      },
      "execution_count": null,
      "outputs": []
    },
    {
      "cell_type": "code",
      "source": [
        "print(students[1::2])  # every-other-element\n",
        "\n"
      ],
      "metadata": {
        "id": "O602PY9au84r"
      },
      "execution_count": null,
      "outputs": []
    },
    {
      "cell_type": "code",
      "source": [
        "print(students[::2])   # step_size is optional; every other one starting with the first"
      ],
      "metadata": {
        "id": "nlWDFoIGu8-7"
      },
      "execution_count": null,
      "outputs": []
    },
    {
      "cell_type": "code",
      "source": [
        "print(students[::-2])  # every other one starting with the last"
      ],
      "metadata": {
        "id": "QtdkaZznu9Cy"
      },
      "execution_count": null,
      "outputs": []
    },
    {
      "cell_type": "code",
      "metadata": {
        "id": "w2bgglwR3VGf"
      },
      "source": [
        "# my_list[start_idx : stop_idx]\n",
        "# fourth from the back to the end\n",
        "# '5' is both index 4 and -1 \n",
        "\n",
        "students = ['1','2','3','4','5']\n",
        "\n",
        "sub_list = students[-4::]\n",
        "\n",
        "print(sub_list)"
      ],
      "execution_count": null,
      "outputs": []
    },
    {
      "cell_type": "markdown",
      "metadata": {
        "id": "3KGS382f3VGg"
      },
      "source": [
        "# Lists are mutable (unlike strings)\n",
        "\n",
        "```python\n",
        "students = ['Brendan','May','Wally','Steven']\n",
        "print(id(students), students)\n",
        "\n",
        "students[0] = 'New Name'\n",
        "students[1:3] = ['Name1', 'Name2']    # slice reassignment\n",
        "print(id(students), students)\n",
        "```"
      ]
    },
    {
      "cell_type": "code",
      "metadata": {
        "id": "p-1C6bhZ3VGh"
      },
      "source": [
        "# mutablity with ID\n",
        "students = ['Brendan','May','Wally','Steven']\n",
        "print(id(students), students)\n",
        "\n",
        "students[0] = \"New Name\"\n",
        "students[1:3] = [\"Name1\", \"Name2\"]\n",
        "print(id(students), students)"
      ],
      "execution_count": null,
      "outputs": []
    },
    {
      "cell_type": "markdown",
      "metadata": {
        "id": "baFHyETR3VGi"
      },
      "source": [
        "# Lists: Membership\n",
        "+ <font color='blue'>**in**</font> operator, similar to string type\n",
        "+ Let's us do some \"logical checks\"\n",
        "\n",
        "```python\n",
        "students = ['Brendan','May','Wally','Steven']\n",
        "print('Brendan' in students)      # boolean expressions\n",
        "print('Roxanne' in students)      # evaluate to True/False\n",
        "print('Wally' not in students)    # evaluates to False\n",
        "```"
      ]
    },
    {
      "cell_type": "code",
      "metadata": {
        "id": "83JN0fH63VGi"
      },
      "source": [
        "# Example\n",
        "\n",
        "students = ['Brendan','May','Wally','Steven']\n",
        "\n",
        "print('Brendan' in students)\n",
        "print('Roxanne' in students)\n",
        "print('Wally' not in students) \n",
        "\n"
      ],
      "execution_count": null,
      "outputs": []
    },
    {
      "cell_type": "markdown",
      "metadata": {
        "id": "HCtKtmep3VGj"
      },
      "source": [
        "# Lists: index of a specific element\n",
        "\n",
        "+ List.index() let's you find *where* in a string an element is\n",
        "\n",
        "```python\n",
        "students = ['Brendan','May','Wally','Steven']\n",
        "print(students.index('Brendan'))\n",
        "print(students.index('Roxanne'))          # ValueError exception\n",
        "```"
      ]
    },
    {
      "cell_type": "code",
      "metadata": {
        "id": "eoi9Tulh3VGk"
      },
      "source": [
        "# index\n",
        "students = ['Brendan','May','Wally','Steven']\n",
        "print(students.index(\"Brendan\"))\n",
        "print(students.index('Roxanne')) \n"
      ],
      "execution_count": null,
      "outputs": []
    },
    {
      "cell_type": "code",
      "source": [
        "# if statement \n",
        "\n",
        "students = ['Brendan','May','Wally','Steven']\n",
        "name_to_find = \"Roxanne\"\n",
        "\n",
        "if name_to_find in students:\n",
        "  results = students.index(name_to_find)\n",
        "  print(results)\n",
        "else: \n",
        "  print(name_to_find + \" not in list\")\n"
      ],
      "metadata": {
        "id": "-OVUBfVk9up_"
      },
      "execution_count": null,
      "outputs": []
    },
    {
      "cell_type": "markdown",
      "metadata": {
        "id": "BoTfetLh3VGl"
      },
      "source": [
        "# Lists: Add / remove elements\n",
        "\n",
        "```python\n",
        "students = ['Brendan','May','Wally','Steven']\n",
        "students.append('Norman')\n",
        "print(students)\n",
        "```\n",
        "\n",
        "```python\n",
        "students.extend(['Tate','Liza'])     # or x + [11,12,13,14,15]\n",
        "print(students)\n",
        "```\n",
        "\n",
        "```python\n",
        "students.insert(0, \"Katie\")     # or x + [11,12,13,14,15]\n",
        "print(students)\n",
        "```\n",
        "\n",
        "```python\n",
        "students.pop()     # Will remove the last element \n",
        "print(students)\n",
        "```\n",
        "\n",
        "```python\n",
        "students.pop(2)    # Will remove element of the desired index\n",
        "print(students)\n",
        "```\n",
        "\n",
        "```python\n",
        "students.pop(students.index('May'))    # What will this do?\n",
        "print(students)\n",
        "```\n",
        "\n",
        "\n"
      ]
    },
    {
      "cell_type": "code",
      "source": [
        "students = ['Brendan','May','Wally','Steven']\n",
        "\n",
        "students.append(\"Norman\")\n",
        "print(students)"
      ],
      "metadata": {
        "id": "rCg7XfyRAgXe"
      },
      "execution_count": null,
      "outputs": []
    },
    {
      "cell_type": "code",
      "source": [
        "students.extend([\"Tate\", \"Liza\"])\n",
        "print(students)"
      ],
      "metadata": {
        "id": "X5hL0pL9oVMP"
      },
      "execution_count": null,
      "outputs": []
    },
    {
      "cell_type": "code",
      "source": [
        "students.insert(0, \"Katie\")\n",
        "print(students)"
      ],
      "metadata": {
        "id": "MkdvqepsomyI"
      },
      "execution_count": null,
      "outputs": []
    },
    {
      "cell_type": "code",
      "source": [
        "students.pop()\n",
        "print(students)"
      ],
      "metadata": {
        "id": "XUnitetQovhL"
      },
      "execution_count": null,
      "outputs": []
    },
    {
      "cell_type": "code",
      "source": [
        "students.pop(2)"
      ],
      "metadata": {
        "id": "HZMU9j_Aovrc"
      },
      "execution_count": null,
      "outputs": []
    },
    {
      "cell_type": "code",
      "source": [
        "#students.pop(students.index('Steven'))\n",
        "\n",
        "print(students)\n",
        "\n"
      ],
      "metadata": {
        "id": "6TG-IYxoo8h2"
      },
      "execution_count": null,
      "outputs": []
    },
    {
      "cell_type": "code",
      "metadata": {
        "id": "SFvLtZ6XADXs"
      },
      "source": [
        "list1 = ['Brendan','May','Wally','Steven']\n",
        "list2 = ['Brendan','May','Wally','Steven']"
      ],
      "execution_count": null,
      "outputs": []
    },
    {
      "cell_type": "code",
      "metadata": {
        "id": "ZcL5gLYH3VGl"
      },
      "source": [
        "print(list1 + list2)"
      ],
      "execution_count": null,
      "outputs": []
    },
    {
      "cell_type": "code",
      "source": [
        "\n",
        "list1 += list2 # concatenate and update list1 \n",
        "print(list1)"
      ],
      "metadata": {
        "id": "BXZGNZWX_Zme"
      },
      "execution_count": null,
      "outputs": []
    },
    {
      "cell_type": "markdown",
      "source": [
        "# List Exercise - Breakout room"
      ],
      "metadata": {
        "id": "M6gdacnDBhsg"
      }
    },
    {
      "cell_type": "code",
      "source": [
        "# Create a list of objects (e.g., names, values, equipment, etc)\n",
        "my_objects = ['roller skates', 'kayak', 'tennis racket', 'soldering iron']\n",
        "\n",
        "# Use insert()to add somthing to the beginning of your list\n",
        "my_objects.insert(0,'paint brushes')\n",
        "\n",
        "# Use insert()to add somthing to the middle of your list\n",
        "my_objects.insert(3, 'picture frames')\n",
        "\n",
        "# Use append to add something to the end of your list \n",
        "my_objects.append('car washing sponge')\n",
        "\n",
        "# use pop() to remove an item \n",
        "my_objects.pop(0)\n",
        "\n",
        "print(my_objects)\n",
        "\n"
      ],
      "metadata": {
        "id": "0_ZhOeMCBYo9",
        "colab": {
          "base_uri": "https://localhost:8080/"
        },
        "outputId": "d7d81733-3019-4d3f-98df-2ebd6407ff0c"
      },
      "execution_count": 5,
      "outputs": [
        {
          "output_type": "stream",
          "name": "stdout",
          "text": [
            "['roller skates', 'kayak', 'picture frames', 'tennis racket', 'soldering iron', 'car washing sponge']\n"
          ]
        }
      ]
    },
    {
      "cell_type": "markdown",
      "metadata": {
        "id": "ppBH_G353VGm"
      },
      "source": [
        "## In-place operations\n",
        "\n",
        "As lists are mutable, some functions will change the original list and others will return a new list.\n"
      ]
    },
    {
      "cell_type": "code",
      "source": [
        "\n",
        "x = [5, 5, 2, 6, 1, 9, 8, 3]\n",
        "print('---ORIGINAL DATA---')\n",
        "print(id(x), x)\n",
        "\n",
        "# Sort two ways\n",
        "x.sort()      \n",
        "y = sorted(x) \n",
        "\n",
        "print()\n",
        "print('---SORTED BY x.sort()---')\n",
        "print(id(x), x)\n",
        "print()\n",
        "print('---SORTED BY sorted()---')\n",
        "print(id(y), y)\n",
        "\n",
        "\n",
        "# Try help commands like this\n",
        "\n",
        "# help(x.sort)\n",
        "#help(sorted) \n"
      ],
      "metadata": {
        "id": "O48GzKFJAujG"
      },
      "execution_count": null,
      "outputs": []
    },
    {
      "cell_type": "markdown",
      "metadata": {
        "id": "uKKqwdr83VGp"
      },
      "source": [
        "# Tuples\n",
        "\n",
        "Tuples and lists are very similar:\n",
        "  + Both store values\n",
        "  + Both can hold different data types\n",
        "  + Both are accessed in the same way\n",
        "  \n",
        "The main difference between them is that tuples are immutable.\n",
        "\n",
        "This means that once a tuple is created it cannot have any additional values added to it.\n",
        "\n",
        "There are performance benefits to this:\n",
        "  + Lists require more memory than they use\n",
        "    + This allows for adding new elements without rebuilding the list (when enough elements are added the list does need to be rebuilt)\n",
        "  + Tuples are a fixed size, so the memory requirement is known in advance\n",
        "  \n",
        "Another use for tuples is as keys for dictionaries which we will discuss next.\n",
        "  + This is due to tuples being immutable\n",
        "  \n",
        "### Defining a tuple\n",
        "Where lists are defined using \\[ \\] tuples are defined using ()\n",
        "```python\n",
        "t = ('John', 'Doe', 78)\n",
        "```\n",
        "Alternatively than can be defined using the tuple construct\n",
        "```python\n",
        "t = tuple('John', 'Doe', 78)\n",
        "```\n"
      ]
    },
    {
      "cell_type": "code",
      "metadata": {
        "id": "jD9Zg0fF3VGp"
      },
      "source": [
        "t = ('John', 'Doe', 78)\n",
        "print(t)"
      ],
      "execution_count": null,
      "outputs": []
    },
    {
      "cell_type": "markdown",
      "metadata": {
        "id": "eoaGty7q3VGr"
      },
      "source": [
        "## Tuples are **immutable** \n",
        "### Attempting to assign a value to a tuple will result in a TypeError\n",
        "\n",
        "```python\n",
        "t = ('John', 'Doe', 78)\n",
        "print(t[0])\n",
        "t[0] = 'Jane'\n",
        "```\n"
      ]
    },
    {
      "cell_type": "code",
      "metadata": {
        "id": "XLeQxfm_3VGr"
      },
      "source": [
        "t = ('John', 'Doe', 78)\n",
        "print(t[0])\n",
        "t[0] = 'Jane'"
      ],
      "execution_count": null,
      "outputs": []
    },
    {
      "cell_type": "markdown",
      "metadata": {
        "id": "BzgJ0Qec3VGs"
      },
      "source": [
        "### Tuples allow for mixed types\n",
        "#### Even other tuples ...\n",
        "\n",
        "```python\n",
        "t = (['John', 'Doe'], 72, ('john@doe.com', 'retired'))\n",
        "```"
      ]
    },
    {
      "cell_type": "markdown",
      "metadata": {
        "id": "ZfvXBlF53VGt"
      },
      "source": [
        "But, there may be an easier way to store this ...\n"
      ]
    },
    {
      "cell_type": "markdown",
      "metadata": {
        "id": "MHA-lYuv3VGt"
      },
      "source": [
        "---\n",
        "# Dictionaries\n",
        "\n",
        "+ Consist of a **set of mappings** between _**<font color='blue'>unique</font>**_ **keys** and their **values**.\n",
        "\n",
        "#### Basic syntax:\n",
        "<font color='magenta'>**\\{**</font> **key1**: value1, **key2**: value2, ...  <font color='magenta'>**}**</font>\n",
        "   \n",
        "```python\n",
        "# Example:\n",
        "genetic_code = {'uuu': 'phe', 'uua': 'leu', 'aug': 'met', 'uaa': 'stop'}\n",
        "```\n",
        "\n",
        "**Comparison with Lists**\n",
        "+ Lists are ordered: the order in which elements are added is the order in which they are stored\n",
        "    + Access by position/index\n",
        "        + Ex. letters = ['a', 'b', 'c', 'd', 'e', 'f']\n",
        "        + letters[0] is 'a' etc.\n",
        "+ Dictionaries are unordered\n",
        "    + Access by key\n",
        "        + Ex. dict_ = {'key1': 'a', 'key2': 'b', 'key3': 'c'}\n",
        "        + dict_['key1'] is 'a'\n",
        "\n",
        "The association between a **key** and a **value** is often refered to as a **key**-**value** pair or an **item**.\n",
        "\n",
        "\n",
        "#### Keys\n",
        "\n",
        "+ must be immutable (string, integer, float, tuple)\n",
        "+ must be unique\n",
        "\n",
        "\n",
        "#### Values\n",
        "+ Can be of any type, mutable or immutable, simple or composite \n",
        "    + primitives (character: 'a', integer: 0, float: 3.4)\n",
        "    + sequential Types (string: 'asd', list: [0, 1, 2], another dictionary: {'key':'value'}, tuple: (0, 1, 2)\n",
        "    + user Defined Types (discussed later) (functions, classes, objects etc.)\n",
        "\n",
        "\n",
        "### Some Real World Examples\n",
        "\n",
        "+ {**&lt;gene_id&gt;**: **&lt;**gene sequence**&gt;**, ...}\n",
        "+ {**&lt;email&gt;**: **&lt;**user data**&gt;**, ...}\n",
        "+ {**&lt;soc security&gt;**: **&lt;**individual**&gt;**, ...}\n",
        "+ {**&lt;emp id&gt;**: **&lt;**emp data**&gt;**, ...}\n",
        "\n",
        "#### Lookup Table\n",
        "\n",
        "```python\n",
        "elements = {'H': 'hydrogen',   'He': 'helium', \n",
        "            'Li': 'lithium',  'C': 'carbon', \n",
        "            'O': 'oxygen',  'N': 'nitrogen'}\n",
        "complement = {'A': 'T', 'T': 'A', 'C': 'G', 'G': 'C'}\n",
        "print('H', '->', elements['H'])\n",
        "print('A', '->', complement['A'])\n",
        "```\n",
        "\n",
        "#### Database Records\n",
        "```python\n",
        "person = {'name': 'Becky', \n",
        "          'surname': 'Chambers', \n",
        "          'contact': \n",
        "              {\n",
        "              'phone': {'office': '415-456-7890',\n",
        "                        'cell': '628-789-0123'\n",
        "                       },\n",
        "              'email': ['becky@gmail.com', 'becky.chambers@writers.com']\n",
        "              }\n",
        "          }\n",
        "print(person['name'])\n",
        "print(person['contact'])\n",
        "print(person['contact']['phone'])\n",
        "print(person['contact']['email'])\n",
        "```\n"
      ]
    },
    {
      "cell_type": "code",
      "metadata": {
        "id": "JwbdBQVHC_BZ"
      },
      "source": [
        "elements = {'H': 'hydrogen',   'He': 'helium', \n",
        "            'Li': 'lithium',  'C': 'carbon', \n",
        "            'O': 'oxygen',  'N': 'nitrogen', 'Na':'sodium'}\n",
        "\n",
        "print(elements['Na'])"
      ],
      "execution_count": null,
      "outputs": []
    },
    {
      "cell_type": "code",
      "source": [
        "complement = {'A': 'T', 'T': 'A', 'C': 'G', 'G': 'C'}\n",
        "\n",
        "print(complement[\"A\"])"
      ],
      "metadata": {
        "id": "tMUimgXPwUO-"
      },
      "execution_count": null,
      "outputs": []
    },
    {
      "cell_type": "code",
      "metadata": {
        "id": "K18P9-aS3VGt"
      },
      "source": [
        "person = {'name': 'Becky', \n",
        "          'surname': 'Chambers', \n",
        "          'contact': \n",
        "              {\n",
        "              'phone': {'office': '415-456-7890',\n",
        "                        'cell': '628-789-0123'\n",
        "                       },\n",
        "              'email': ['becky@gmail.com', 'becky.chambers@writers.com']\n",
        "              }\n",
        "          }\n",
        "\n",
        "\n",
        "print(person.keys()) \n",
        "print(person['contact'].keys())\n",
        "print(person['contact'])\n",
        "print(person['contact']['phone']['cell'])\n",
        "print(person['contact']['email'])\n",
        "print(person.get(\"name\")) #use get to get value"
      ],
      "execution_count": null,
      "outputs": []
    },
    {
      "cell_type": "markdown",
      "metadata": {
        "id": "33m1CsaE3VGu"
      },
      "source": [
        "## Operations\n",
        "\n",
        "```python\n",
        "help(dict)\n",
        "```\n",
        "\n",
        "+ Create\n",
        "+ Access keys, values or (key, value) pairs / items\n",
        "+ Modify items\n",
        "+ Check membership of a key\n",
        "+ Traverse through the dictionary and do something\n",
        "+ Make it bigger / smaller (add and remove items)\n",
        "+ …\n"
      ]
    },
    {
      "cell_type": "code",
      "metadata": {
        "id": "62ZZB09N3VGu"
      },
      "source": [
        "help(dict)"
      ],
      "execution_count": null,
      "outputs": []
    },
    {
      "cell_type": "markdown",
      "metadata": {
        "id": "419OoUtx3VGv"
      },
      "source": [
        "## Creating a dictionary\n",
        "Several ways to create a dictionary\n",
        "\n",
        "```python\n",
        "dict_x = {'a': 1, 'b': 2}      # initialize by assignment\n",
        "dict_y = dict(a=1, b=2)        # use dict built-in function\n",
        "print(dict_x, dict_y)\n",
        "print(\"The value for key '{}' is {}\".format('a', dict_x['a']))\n",
        "```\n",
        "+ **keys** = 'a', 'b'\n",
        "+ **values** = 1, 2\n",
        "+ **items** = ('a', 1), ('b', 2)\n",
        "\n",
        "+ Access by key:\n",
        "```python\n",
        "print(\"The value for key '{}' is {}\".format('a', dict_x['a']))\n",
        "```\n"
      ]
    },
    {
      "cell_type": "code",
      "metadata": {
        "id": "sNW5YxPP3VGw"
      },
      "source": [
        "dict_x = {'a': 1, 'b': 2}      # initialize by assignment\n",
        "dict_y = dict(a=\"turtle\", b=\"elephant\")        # use dict built-in function\n",
        "\n",
        "# print(dict_x, dict_y)\n",
        "print(\"The value for key '{}' is {}\".format('a', dict_y['a']))"
      ],
      "execution_count": null,
      "outputs": []
    },
    {
      "cell_type": "markdown",
      "source": [
        "### Checking to see if key/value is in dictionary "
      ],
      "metadata": {
        "id": "Z_spwqubnAYp"
      }
    },
    {
      "cell_type": "code",
      "metadata": {
        "id": "65HJ_pwP3VG2"
      },
      "source": [
        "contact = {'first_name':'Steven' , 'last_name':'Stone', 'occupation': 'office worker'}\n",
        "\n",
        "\n",
        "print('first_name' in contact) # see if a key is in the dictionary \n",
        "print('Steven' in contact.values()) # see if a value is in the dictionary\n",
        "print(('first_name', 'Steven') in contact.items()) # see if a key, value pair exists\n"
      ],
      "execution_count": null,
      "outputs": []
    },
    {
      "cell_type": "markdown",
      "metadata": {
        "id": "d84rYJ8d3VG3"
      },
      "source": [
        "\n",
        "### Modifications\n",
        "\n",
        "```python\n",
        "contact = {'name': 'John'}\n",
        "```\n",
        "\n",
        "+ Changing the value for a key\n",
        "\n",
        "```python\n",
        "contact['name'] = 'Joe'\n",
        "```\n",
        "\n",
        "+ Adding individual key-value pair to a dictionary\n",
        "\n",
        "```python\n",
        "contact['salary'] = 100000\n",
        "```\n",
        "\n",
        "+ Updating a dictionary with another dictionary (updates existing values; adds new key-value pairs)\n",
        "<br>\n",
        "\n",
        "```python\n",
        "some_other_dict = {'age': 67, 'gender': 'M'}\n",
        "contact.update(some_other_dict)         \n",
        "```\n",
        "\n",
        "    This is an ***in-place*** operation!\n",
        "\n"
      ]
    },
    {
      "cell_type": "code",
      "metadata": {
        "id": "-jBvnhlEG53X"
      },
      "source": [
        "some_other_dict = {'age': 67, 'gender': 'M'}"
      ],
      "execution_count": null,
      "outputs": []
    },
    {
      "cell_type": "code",
      "metadata": {
        "id": "ShVeUrqi3VG3"
      },
      "source": [
        "\n",
        "del some_other_dict['age']\n",
        "\n",
        "print(some_other_dict)"
      ],
      "execution_count": null,
      "outputs": []
    },
    {
      "cell_type": "markdown",
      "metadata": {
        "id": "YkC1nUjD3VG4"
      },
      "source": [
        "### Extra - pretty Printing\n",
        "\n",
        "+ Complicated dictionaries do not print nicely.\n",
        "+ pprint is a library that prints dictionaries in a more structured manner\n",
        "    + external library that needs to be imported\n",
        "    + it comes standard with python installation\n",
        "+ If you want to configure the output, create a pretty printer object first before using it (ow default config is used)\n"
      ]
    },
    {
      "cell_type": "code",
      "metadata": {
        "id": "e-Pa02yi3VG4"
      },
      "source": [
        "import pprint\n",
        "dict_ = {'name': 'Joe', 'Surname': 'van Niekerk', 'email': 'jvn@c.m', \n",
        "        'friends': [{'name': 'Sally'}, {'name': 'Dave'}, {'name': 'Rick'}, {'name': 'James'}]}\n",
        "print('\\n' +'-'*50)\n",
        "\n",
        "\n",
        "print(\"No pretty printing\")\n",
        "print('-'*50)\n",
        "print(dict_)\n",
        "print('\\n' + '-'*50)\n",
        "\n",
        "print(\"Default pretty printing\")\n",
        "print('-'*50)\n",
        "pprint.pprint(dict_)\n",
        "print('\\n' + '-'*50)\n"
      ],
      "execution_count": null,
      "outputs": []
    },
    {
      "cell_type": "markdown",
      "metadata": {
        "id": "jUQFlHcq3VG5"
      },
      "source": [
        "## Assert Statements"
      ]
    },
    {
      "cell_type": "markdown",
      "metadata": {
        "id": "GKijMqBT3VG5"
      },
      "source": [
        "These help you make sure your code is working the way it should.\n",
        "\n",
        "```python\n",
        "score = 20\n",
        "assert score > 0\n",
        "```\n",
        "\n",
        "Will continue without a problem. But if it's not met...\n",
        "\n",
        "\n",
        "```python \n",
        "score = -10\n",
        "assert score > 0\n",
        "```\n",
        "\n",
        "Will throw an error. Personalize your error by passing in a string after your assert statement.\n",
        "\n",
        "\n",
        "```python\n",
        "score = 0\n",
        "assert score > 1, \"Please use only positive scores.\"\n",
        "```"
      ]
    },
    {
      "cell_type": "markdown",
      "metadata": {
        "id": "VKqCfuAS3VG6"
      },
      "source": [
        "But you'll see this in your homework. \n",
        "```python\n",
        "\n",
        "# Replace '0' with the expression for each operation\n",
        "# ADDITION\n",
        "number1 = #ADD CODE TO GET FIRST INT\n",
        "number2 = #ADD CODE TO GET SECOND INT\n",
        "\n",
        "result_addition = 0\n",
        "\n",
        "assert result_addition == number1 + number2, \"{} != {} + {}\".format(result_addition, number1, number2)\n",
        "```"
      ]
    }
  ]
}
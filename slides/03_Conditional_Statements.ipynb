{
  "cells": [
    {
      "cell_type": "markdown",
      "metadata": {
        "id": "osg1jzuwudOl"
      },
      "source": [
        "# Introduction to Python - 14 July 2022\n",
        "\n",
        "## <font color='blue'>Logistics:</font>\n",
        "+ **Signup sheet for lightning talk**: [link](https://docs.google.com/spreadsheets/d/1aI-z48NFNbqXFPyiQxKfMP9PNpABNvUkkeJBOGVOSHQ/edit?usp=sharing)\n",
        "    - potential topics: any python library or concept of interest (not covered in class)\n",
        "    - key deliverable: in-class presentation + demo\n",
        "    - Some resources:\n",
        "        - https://docs.python.org/3.6/library/index.html\n",
        "        - https://pymotw.com/3/\n",
        "    - Past Topics:\n",
        "        - matplotlib\n",
        "        - Numpy Arrays\n",
        "        - Statistics Packages (statsmodels, scikit-learn)\n",
        "        - SymPy - Symbolic Python\n",
        "        - Image Analysis (Scikit-Image, ImageJ/Fiji)\n",
        "        - BioPython\n",
        "        - itertools\n",
        "        - Bisect\n",
        "        - copy/deep copy module\n",
        "        - calendar module\n",
        "        - datetime module\n",
        "        - decimal module\n",
        "        - higher order functions (map, filter, reduce, ...)\n",
        "        - difflib module\n",
        "\n"
      ]
    },
    {
      "cell_type": "code",
      "source": [
        "# length of a diagnonal \n",
        "\n",
        "# import math \n",
        "\n",
        "# l = 4\n",
        "# w = 10\n",
        "# d = math.sqrt(l**2 + w**2)\n",
        "# print(d)\n",
        "\n",
        "help(\"math\")\n",
        "# help(\"decimal\")"
      ],
      "metadata": {
        "id": "30rCk9vG3gCp"
      },
      "execution_count": null,
      "outputs": []
    },
    {
      "cell_type": "code",
      "source": [
        "!pip install BioPython\n",
        "\n",
        "# import Bio\n"
      ],
      "metadata": {
        "id": "SlZ2rD774J9-"
      },
      "execution_count": null,
      "outputs": []
    },
    {
      "cell_type": "markdown",
      "metadata": {
        "id": "bfIDq-jI3aC5"
      },
      "source": [
        "+ **Final project proposal**:\n",
        "    - Due date: 25 July 2022\n",
        "    - Deliverable:\n",
        "        - Team members\n",
        "        - Problem description\n",
        "            - Core idea: Implementing XYZ; Analyzing XYZ dataset etc.\n",
        "            - Pseudocode\n",
        "            - Expected input\n",
        "            - Expected output\n",
        "    - Final deliverable:\n",
        "        - presentation + demo (~15 mins)\n",
        "        - github repo with code and documentation of how to run the program\n",
        "    - Examples:\n",
        "        - Perform a real-world data analysis task\n",
        "        - Creating a simple game, like tic-tac-toe, sudoku\n",
        "        - Create a series of visualizations\n",
        "        \n",
        "+ **Assignments**\n",
        "    - Will go out weekly on Thursdays\n",
        "    - Will be due by the following Thursday\n",
        "            "
      ]
    },
    {
      "cell_type": "markdown",
      "metadata": {
        "id": "4I3qMkhn9Aw9"
      },
      "source": [
        "\n",
        "## Story so far...\n",
        "+ primitive python objects\n",
        "+ boolean operators\n",
        "+ variables and variable naming conventions (pep8, reserved keywords)\n",
        "+ expressions and simple statements (assignment)\n",
        "+ misc (user input, comments, mutability)\n",
        "<br />\n",
        "\n",
        "## Today - Python Statements:\n",
        "- Compound statements: if/else conditionals\n",
        "- Some common patterns of usage\n",
        "\n",
        "---"
      ]
    },
    {
      "cell_type": "markdown",
      "metadata": {
        "id": "ELEBxODYudOt"
      },
      "source": [
        "## Structural hierarchy of a python program:\n",
        "\n",
        "+ Python program at its most basic is a **sequence** of **valid** Python statements that have been crafted to do a specific task.\n",
        "    - statement-based procedural language, that uses:\n",
        "        - **expressions** to create and process python objects\n",
        "        - **statements** to code the larger logic of a program’s operation and controlling how the objects interact with each other as well as with their environment\n",
        "    \n",
        "    ```python\n",
        "    # python's execution model\n",
        "    a = 10     # expression\n",
        "    b = 20\n",
        "    x = a + b  # statement (arithmetic expression in a statement)\n",
        "    print(x)   # statement\n",
        "\n",
        "    # An expression evaluates to a value. A statement does something.\n",
        "    ```\n",
        "\n",
        "+ Python Statements:\n",
        "    - simple: https://docs.python.org/3/reference/simple_stmts.html\n",
        "        - general rule is that the end of a line indicates end of statement (some exceptions)\n",
        "    - compound: https://docs.python.org/3/reference/compound_stmts.html\n",
        "<br/>\n",
        "\n",
        "#### Extras:\n",
        "- Python online documentation: https://docs.python.org/3/index.html"
      ]
    },
    {
      "cell_type": "code",
      "execution_count": null,
      "metadata": {
        "id": "aJgTU_9_udOv"
      },
      "outputs": [],
      "source": [
        "# example of a simple statement\n",
        "\n",
        "float_1 = 35.6666\n",
        "float_2 = 64.4\n",
        "\n",
        "result = float_1 + float_2\n",
        "print(result)\n",
        "\n",
        "# example of a compound statement \n",
        "\n",
        "for i in range(10):\n",
        "  print(i)\n"
      ]
    },
    {
      "cell_type": "markdown",
      "metadata": {
        "id": "w2677isKudOw"
      },
      "source": [
        "## Recap\n",
        "\n",
        "### Boolean expressions\n",
        "- evaluate to True or False\n",
        "\n",
        "|Operator|Expression|Comparison| Example|Evaluated to |\n",
        "|---|---|---| | |\n",
        "|==|x **==** y|is x equal to y?| 6 == 9 | False|\n",
        "|!=|x **!=** y|is x not equal to y?| 3 != 2 | True|\n",
        "|<|x **<** y|is x less than y?| 100 < 10 | False|\n",
        "|>|x **>** y|is x greater than y?| 100 > 10| True|\n",
        "|<=|x **<=** y|is x less than or equal to y?| 1 <= 4 |True|\n",
        "|>=|x **>=** y|is x greater than or equal to y?| 2 >= 2 | True |\n",
        "\n",
        "\n",
        "#### More complex boolean expressions can be built using additional operators\n",
        "\n",
        "+ **and** Operator\n",
        "\n",
        "|E1|E2|E1 and E2|\n",
        "|---|---|---|\n",
        "|False|False|False|\n",
        "|False|True|False|\n",
        "|True|False|False|\n",
        "|True|True|True|\n",
        "\n",
        "+ **or** Operator\n",
        "\n",
        "|E1|E2|E1 or E2|\n",
        "|---|---|---|\n",
        "|False|False|False|\n",
        "|False|True|True|\n",
        "|True|False|True|\n",
        "|True|True|True|\n",
        "\n",
        "+ **not** Operator\n",
        "\n",
        "|E1|not E1|\n",
        "|---|---|\n",
        "|False|True|\n",
        "|True|False|\n"
      ]
    },
    {
      "cell_type": "markdown",
      "source": [
        "#### Example\n",
        "\n",
        " Boolean expressions to determine...\n",
        "\n",
        "+ ...whether the number is even\n",
        " + n%2 == 0\n",
        "+ ...whether the number is positive\n",
        " + n > 0\n",
        "\n",
        "Combining boolean expressions and logical expressions to  evaluate a condition: \n",
        "\n",
        "+ whether the number is even **and** positive\n",
        " + n%2 == 0 and n > 0\n",
        "+ whether the number is even **or** positive\n",
        " + n%2 == 0 or n > 0"
      ],
      "metadata": {
        "id": "ERh8BouuAHpf"
      }
    },
    {
      "cell_type": "code",
      "source": [
        "num = 5\n",
        "\n",
        "print ('Number is: ', num)\n",
        "print ('\\tBoolean Expressions')\n",
        "print ('\\t\\t', num, '% 2 == 0 \\t\\t\\t:', num%2 == 0)\n",
        "print ('\\t\\t', num, '> 0 \\t\\t\\t\\t:', num > 0)\n",
        "print ('\\tLogical Expressions')\n",
        "print ('\\t\\t', num, '% 2 == 0 and',num,'> 0 \\t\\t:', num%2 == 0 and num > 0)\n",
        "print ('\\t\\t', num, '% 2 == 0 or',num,'> 0 \\t\\t:', num%2 == 0 or num > 0)"
      ],
      "metadata": {
        "id": "AqOQX6_-QZXh"
      },
      "execution_count": null,
      "outputs": []
    },
    {
      "cell_type": "code",
      "source": [
        "# lets look at this in more detail\n",
        "\n",
        "num = 65\n",
        "\n",
        "is_even = num % 2 == 10\n",
        "print(is_even)\n",
        "\n",
        "is_positive = num > 0\n",
        "print(is_positive)\n",
        "\n",
        "\n",
        "# adding logical expressions \n",
        "\n",
        "EvenAndPositive = num % 2 == 10 and num > 0\n",
        "print(EvenAndPositive)\n",
        "EvenOrPositive = num % 2 == 10 or num > 0\n",
        "print(EvenOrPositive)\n"
      ],
      "metadata": {
        "id": "Jy0HvebuQuoL"
      },
      "execution_count": null,
      "outputs": []
    },
    {
      "cell_type": "markdown",
      "metadata": {
        "id": "EXyaGfkKudOx"
      },
      "source": [
        "# Conditional Statements\n",
        "\n",
        "## If statement\n",
        "\n",
        "In order to write usefull programs you need to be able to control which statements are executed. This is achieved using **if** statements.\n",
        "\n",
        "**if** statements have the following format\n",
        "\n",
        "```python\n",
        "if <boolean expression>:           # header (note the colon)\n",
        "    <statement block>      # statement block\n",
        "```\n",
        "\n",
        "```python\n",
        "x = 35\n",
        "if x >= 10:           \n",
        "    print(\"x is greater than or equal to 10!\")\n",
        "```\n",
        "\n",
        "![alt text](http://www.openbookproject.net/books/bpp4awd/_images/flowchart_if_only.png)\n",
        "\n",
        "\n",
        "\n"
      ]
    },
    {
      "cell_type": "code",
      "source": [
        "# example \n",
        "\n",
        "x = 35 \n",
        "\n",
        "if x >= 10:\n",
        "  print(\"x is greater than or equal to 10!\")\n",
        "\n",
        "x = 3 \n",
        "\n",
        "if x < 40:\n",
        "  print(f\"{x} is less than 40!\")\n"
      ],
      "metadata": {
        "id": "Q3yElzSpaRxc"
      },
      "execution_count": null,
      "outputs": []
    },
    {
      "cell_type": "markdown",
      "source": [
        "Things to Note: \n",
        "* The colon (:) is significant and required. It separates the header of the compound statement from the body.\n",
        "* The line after the colon must be indented. It is standard in Python to use four spaces for indenting.\n",
        "* All lines indented the same amount after the colon will be executed whenever the BOOLEAN_EXPRESSION is true.\n",
        "\n"
      ],
      "metadata": {
        "id": "ZIGpA716HTpi"
      }
    },
    {
      "cell_type": "markdown",
      "metadata": {
        "id": "cJxLwjVgZ72E"
      },
      "source": [
        "Note that the **statement block** is indented (leading white spaces). Physical indentation is how Python determines how long a compound/nested statement block lasts. Here, it separates code that should be executed by the if statement and code that is executed regardless of the statement.\n",
        "\n",
        "In the following code **statement1** and **statement2** are only executed if the **expression** is true. **statement3** will be executed regardless of the if statement.\n",
        "\n",
        "```python\n",
        "if <expression>:\n",
        "    statement1\n",
        "    statement2\n",
        "statement3\n",
        "```\n"
      ]
    },
    {
      "cell_type": "code",
      "source": [
        "# If statement with multiple statements \n",
        "\n",
        "hometown = \"NYC\"\n",
        "\n",
        "if hometown == \"New Orleans\":\n",
        "  print(\"Let the good times roll!\")\n",
        "  print(\"yum, gumbo!\")\n",
        "\n",
        "print(5*(\"\\nThe Big Easy!\"))\n",
        "\n"
      ],
      "metadata": {
        "id": "MFS3omamrV_E"
      },
      "execution_count": null,
      "outputs": []
    },
    {
      "cell_type": "markdown",
      "metadata": {
        "id": "Htgaam0arKpg"
      },
      "source": [
        "\n",
        "**Notes on indentation:**\n",
        "- be consistent (within block, and preferably within whole program) - **syntax rule**\n",
        "- convention is use single tab or 4 white spaces (configurable in most integrated dev environments - IDEs), although anything else consistent will work too.\n",
        "- don't mix tabs and spaces - can cause major readability issues if someone else's editor is set to display tabs differently than yours.\n",
        "\n",
        "```python\n",
        "if True:\n",
        "    print ('Hello') # 4 spaces\n",
        "    print ('Hello') # 1 tab (this is bad. Use one of the other)\n",
        "```\n",
        "\n",
        "The following code will result in an error as the spaces are inconsistant\n",
        "\n",
        "```python\n",
        "if True:\n",
        "    print ('Hello') # 4 spaces\n",
        "     print ('Hello') # 5 spaces\n",
        "```\n",
        "\n",
        "The following code is valid but not preferred due to different indentations in different code blocks\n",
        "\n",
        "```python\n",
        "if True:\n",
        "    print ('Hello') # 4 spaces\n",
        "    print ('Hello') # 4 spaces\n",
        "        \n",
        "x = 10\n",
        "if x > 5:\n",
        "        print('large number')\n",
        "```"
      ]
    },
    {
      "cell_type": "code",
      "source": [
        "# indentation error \n",
        " x = 35 \n",
        "\n",
        " if x <= 45:\n",
        "print(\"yep!\")\n",
        "\n",
        "\n"
      ],
      "metadata": {
        "id": "YYA8XGMKIWdY"
      },
      "execution_count": null,
      "outputs": []
    },
    {
      "cell_type": "markdown",
      "metadata": {
        "id": "jFLaDFziudO0"
      },
      "source": [
        "## If/Else Statements\n",
        "```python\n",
        "if <expression>:\n",
        "    <statement_1>\n",
        "else:\n",
        "    <statement_2>\n",
        "```\n",
        "\n",
        "```python \n",
        "if (it is raining outside):\n",
        "   grab an umbrella before leaving\n",
        "else:\n",
        "   leave the umbrella at home\n",
        "```\n",
        "\n",
        "![alt text](http://www.openbookproject.net/books/bpp4awd/_images/flowchart_if_else.png)\n",
        "\n",
        "    "
      ]
    },
    {
      "cell_type": "code",
      "execution_count": null,
      "metadata": {
        "id": "VCOjIqrpudO1"
      },
      "outputs": [],
      "source": [
        "# If / else example \n",
        "\n",
        "val = int(input(\" Enter a number: \"))\n",
        "\n",
        "if val % 2 == 0:\n",
        "  print(\"you entered an even number!\")\n",
        "else:\n",
        "  print(\"you entered an odd number!\")\n",
        "\n",
        "\n",
        "\n"
      ]
    },
    {
      "cell_type": "markdown",
      "metadata": {
        "id": "_SyHNI6budO1"
      },
      "source": [
        "## if / elif /else \n",
        "```python\n",
        "if x < y:\n",
        "    STATEMENTS_A\n",
        "elif x > y:\n",
        "    STATEMENTS_B\n",
        "else:\n",
        "    STATEMENTS_C\n",
        "```\n",
        "\n",
        "![alt text](http://www.openbookproject.net/books/bpp4awd/_images/flowchart_chained_conditional.png)\n",
        "\n"
      ]
    },
    {
      "cell_type": "code",
      "source": [
        "# Example of a if/elif/else \n",
        "\n",
        "val = int(input(\" Enter a number: \"))\n",
        "\n",
        "# if val % 2 == 0 and val >= 0:\n",
        "#   print(\"You entered an even positive number\")\n",
        "# elif val % 2 == 0 and val < 0:\n",
        "#   print(\" you entered an even negative number\")\n",
        "# else:\n",
        "#   print(\"you've entered an odd number\")\n",
        " \n",
        "\n",
        "if val % 2 == 0 and val >= 0: \n",
        "  print(\"You entered an even positive number\")\n",
        "elif val % 2 == 0 and val < 0:\n",
        "  print (\"you entered an even negative\")\n",
        "else:\n",
        "  print(\"You've entered an odd number\")\n",
        "\n"
      ],
      "metadata": {
        "id": "y5eN-CaEwCLI"
      },
      "execution_count": null,
      "outputs": []
    },
    {
      "cell_type": "code",
      "source": [
        "it_is_raining_outside = False\n",
        "it_will_rain_later = True\n",
        "\n",
        "if it_is_raining_outside or it_will_rain_later:\n",
        "    print(\"I will grab my umbrella before leaving.\")\n",
        "else:\n",
        "    print(\"I will NOT grab my umbrella before leaving.\")"
      ],
      "metadata": {
        "id": "byXo81avlocv"
      },
      "execution_count": null,
      "outputs": []
    },
    {
      "cell_type": "code",
      "execution_count": null,
      "metadata": {
        "id": "1XLpoJNpudO2"
      },
      "outputs": [],
      "source": [
        "it_is_raining_outside = False\n",
        "percentage_chance_it_rains_at_some_point = 24\n",
        "i_REALLY_hate_getting_wet = False\n",
        "i_like_being_prepared = False\n",
        "\n",
        "if it_is_raining_outside or i_like_being_prepared:\n",
        "    print(\"I will grab my umbrella before leaving.\")\n",
        "elif percentage_chance_it_rains_at_some_point > 40 or i_REALLY_hate_getting_wet:\n",
        "    print(\"I will PROBABLY grab my umbrella before leaving\")\n",
        "elif percentage_chance_it_rains_at_some_point <= 40 and i_REALLY_hate_getting_wet == False:\n",
        "    print(\"I will PROBABLY NOT grab my umbrella before leaving\")\n",
        "else:\n",
        "    print(\"I will NOT grab my umbrella before leaving.\")"
      ]
    },
    {
      "cell_type": "code",
      "source": [
        "it_is_raining_outside = False\n",
        "percentage_chance_it_rains_at_some_point = 24\n",
        "i_REALLY_hate_getting_wet = False\n",
        "i_like_being_prepared = False\n",
        "\n",
        "\n",
        "if it_is_raining_outside or i_like_being_prepared:\n",
        "  print(\"I will grab my umbrella before leaving.\")\n",
        "elif percentage_chance_it_rains_at_some_point > 40 or i_REALLY_hate_getting_wet:\n",
        "  print(\"I will PROBABLY grab my umbrella before leaving\")\n",
        "elif percentage_chance_it_rains_at_some_point <= 40 and i_REALLY_hate_getting_wet == False: \n",
        "  print(\"I will PROBABLY NOT grab my umbrella before leaving\")\n",
        "else: \n",
        "  print(\"I will NOT grab my umbrella before leaving.\")\n",
        "\n",
        "\n"
      ],
      "metadata": {
        "id": "ii1mwjhWKopN"
      },
      "execution_count": null,
      "outputs": []
    },
    {
      "cell_type": "markdown",
      "metadata": {
        "id": "ybVTFoovudO2"
      },
      "source": [
        "## Nested conditionals\n",
        "```python\n",
        "if a > b:\n",
        "    STATEMENTS_A\n",
        "else:\n",
        "    if x > y:\n",
        "        STATEMENTS_B\n",
        "    else:\n",
        "        STATEMENTS_C\n",
        "```\n",
        "\n",
        "![alt text](http://www.openbookproject.net/books/bpp4awd/_images/flowchart_nested_conditional.png)\n",
        "\n",
        "#### Example:\n",
        "```python\n",
        "disease = int(input('Enter disease state (1 or 0): '))    # Every value in python has a \"Truth\" value\n",
        "if not disease:\n",
        "    print('no drug required')\n",
        "else:\n",
        "    group_number = int(input('Enter group number: '))\n",
        "    if 0 < group_number <= 4:\n",
        "        print('give drug A')\n",
        "    elif 4 < group_number <= 10:\n",
        "        print('give drug B')\n",
        "    else:\n",
        "        print('give drug C')\n",
        "```"
      ]
    },
    {
      "cell_type": "code",
      "source": [
        "# example of a nested conditional \n",
        "\n",
        "disease = int(input('Enter disease state (1 or 0): '))    # Every value in python has a \"Truth\" value\n",
        "\n",
        "if not disease:\n",
        "    print('no drug required')\n",
        "else:\n",
        "    group_number = int(input('Enter group number: '))\n",
        "    if 0 < group_number <= 4:\n",
        "        print('give drug A')\n",
        "    elif 4 < group_number <= 10:\n",
        "        print('give drug B')\n",
        "    else:\n",
        "        print('give drug C')\n",
        "\n",
        "\n",
        "\n",
        "\n",
        "\n",
        "\n"
      ],
      "metadata": {
        "id": "swDrso2ymxyx"
      },
      "execution_count": null,
      "outputs": []
    },
    {
      "cell_type": "markdown",
      "source": [
        "## Breakout Session\n",
        "\n"
      ],
      "metadata": {
        "id": "BoybrP_Y75CO"
      }
    },
    {
      "cell_type": "code",
      "execution_count": null,
      "metadata": {
        "id": "hZ8F-g9TAOZR"
      },
      "outputs": [],
      "source": [
        "# Use a comparison operator to write an expression that evaluates to True\n",
        "\n",
        "my_string = \"Python\"\n",
        "print(len(my_string) >= 6)\n"
      ]
    },
    {
      "cell_type": "code",
      "execution_count": null,
      "metadata": {
        "id": "rh-AFimEAI8s"
      },
      "outputs": [],
      "source": [
        "# Use an comparison operator to write an expression that evaluates to False\n",
        "my_second_string = \"foo\"\n",
        "print(len(my_second_string) >= 6)\n"
      ]
    },
    {
      "cell_type": "code",
      "execution_count": null,
      "metadata": {
        "id": "FX9yM_qcAI8s"
      },
      "outputs": [],
      "source": [
        "# Use an logical operator to write an expression that evaluates to True\n",
        "my_var = 42\n",
        "\n",
        "0 < my_var <= 45 or my_var == \"the answer\"\n"
      ]
    },
    {
      "cell_type": "code",
      "execution_count": null,
      "metadata": {
        "id": "QmZXP9geAI8s"
      },
      "outputs": [],
      "source": [
        "# Use an logical operator to write an statement that evaluates to False\n",
        "\n",
        "my_temp = 98.6\n",
        "my_temp < 98 or my_temp == 98"
      ]
    },
    {
      "cell_type": "code",
      "execution_count": null,
      "metadata": {
        "id": "xWzuAPbkAI8s"
      },
      "outputs": [],
      "source": [
        "# Use a logical operator more than once in a statement\n",
        "\n",
        "subj_heart_rate = 60\n",
        "subj_age = 30\n",
        "subj_weight = 150\n",
        "60 > subj_heart_rate and 40 >= subj_age and 170 <= subj_weight"
      ]
    },
    {
      "cell_type": "code",
      "execution_count": null,
      "metadata": {
        "id": "smBIVULbAI8s"
      },
      "outputs": [],
      "source": [
        "# Write an if statement \n",
        "variable_1 = 42\n",
        "variable_2 = 150\n",
        "if variable_1 < variable_2:\n",
        "  print(f'{variable_1} is less than {variable_2}')\n"
      ]
    },
    {
      "cell_type": "code",
      "execution_count": null,
      "metadata": {
        "id": "AQ3EpA2VAI8t"
      },
      "outputs": [],
      "source": [
        "#  Write an if statement with a conditional operator and a logical operator\n",
        "subj_heart_rate = 90\n",
        "subj_age = 50\n",
        "subj_weight = 200\n",
        "subj_sex = \"male\"\n",
        "\n",
        "if subj_age > 30 and subj_weight > 150 and subj_heart_rate > 70 and subj_sex == \"male\":\n",
        "  print(\"Further follow up may be needed.\")\n",
        "\n",
        "\n"
      ]
    },
    {
      "cell_type": "code",
      "source": [
        "# Write an if/else statement \n",
        "\n",
        "subj_heart_rate = 60\n",
        "subj_age = 30\n",
        "subj_weight = 140\n",
        "subj_sex = \"female\"\n",
        "\n",
        "if subj_age > 30 and subj_weight > 150 and subj_heart_rate > 70 and subj_sex == \"female\":\n",
        "  print(\"Further follow up may be needed.\")\n",
        "else:\n",
        "  print(\"Further follow up is not necessary at this time.\")\n",
        "\n",
        "\n"
      ],
      "metadata": {
        "id": "VtJLuLZmzms4"
      },
      "execution_count": null,
      "outputs": []
    },
    {
      "cell_type": "code",
      "execution_count": null,
      "metadata": {
        "id": "k7tNB480AI8t"
      },
      "outputs": [],
      "source": [
        "# Write an if/elif/else statement \n",
        "\n",
        "my_magical_beast = \"unicorn\"\n",
        "\n",
        "if my_magical_beast == \"dragon\":\n",
        "  print(f'Your magical beast is a {my_magical_beast}, which means you are fiery')\n",
        "elif my_magical_beast == \"pegasus\":\n",
        "  print(f'Your magical beast is a {my_magical_beast}, which means you are flighty')\n",
        "else:\n",
        "  print(f'Your magical beast is a {my_magical_beast}, which means you are cliche')\n",
        "\n",
        "\n",
        "\n",
        "\n",
        "\n"
      ]
    },
    {
      "cell_type": "code",
      "execution_count": null,
      "metadata": {
        "id": "Eq34eYfxAI8t"
      },
      "outputs": [],
      "source": [
        "# BONUS\n",
        "# Use input() function with an if/else statement \n",
        "\n",
        "user_id = input(\"Please enter your user ID: \")\n",
        "logged_in = False\n",
        "\n",
        "if user_id == \"Admin\" or logged_in:\n",
        "  print(\"Welcome to the Admin Page\")\n",
        "else:\n",
        "  print(\"Sorry, you are not authorized for this page. \")\n",
        "\n",
        "\n"
      ]
    }
  ],
  "metadata": {
    "anaconda-cloud": {},
    "kernelspec": {
      "display_name": "Python 3",
      "language": "python",
      "name": "python3"
    },
    "language_info": {
      "codemirror_mode": {
        "name": "ipython",
        "version": 3
      },
      "file_extension": ".py",
      "mimetype": "text/x-python",
      "name": "python",
      "nbconvert_exporter": "python",
      "pygments_lexer": "ipython3",
      "version": "3.7.3"
    },
    "colab": {
      "name": "03_Conditional_Statements.ipynb",
      "provenance": [],
      "collapsed_sections": []
    }
  },
  "nbformat": 4,
  "nbformat_minor": 0
}
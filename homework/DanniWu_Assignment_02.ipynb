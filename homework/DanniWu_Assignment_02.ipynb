{
  "nbformat": 4,
  "nbformat_minor": 0,
  "metadata": {
    "kernelspec": {
      "display_name": "Python 3",
      "language": "python",
      "name": "python3"
    },
    "language_info": {
      "codemirror_mode": {
        "name": "ipython",
        "version": 3
      },
      "file_extension": ".py",
      "mimetype": "text/x-python",
      "name": "python",
      "nbconvert_exporter": "python",
      "pygments_lexer": "ipython3",
      "version": "3.7.3"
    },
    "colab": {
      "name": "DanniWu_Assignment_02.ipynb",
      "provenance": [],
      "collapsed_sections": []
    }
  },
  "cells": [
    {
      "cell_type": "markdown",
      "metadata": {
        "id": "-LB7GMLXiTNc"
      },
      "source": [
        "# Introduction to Programming (Due August 8th 2022 at 11:59PM)\n",
        "\n",
        "Make a copy in your Drive. <br/>\n",
        "Email to genevieve.milliken@nyu.edu as a .ipynb file when completed\n",
        "\n",
        "## Assignment 2"
      ]
    },
    {
      "cell_type": "markdown",
      "metadata": {
        "id": "OchN0YKIiTNd"
      },
      "source": [
        "### Question 1\n",
        "\n",
        "#### String Handling\n",
        "#### 1.1) \n",
        "For this question, assume that you are building a function whose task is to check whether or not a DNA sequence is  valid. Partial code has been provided, you will need to complete the rest. A valid DNA sequence will only contain **'A,a,C,c,G,g,T,t'** characters for this question (i.e. either upper case or lower case is ok as long as it is one of the four letters listed). For the output of your function, return **True** if the input is valid, otherwise return **False**.\n",
        "\n",
        "*When running the block, the assert statements will raise errors if your program does not return the correct response.*\n"
      ]
    },
    {
      "cell_type": "code",
      "metadata": {
        "id": "lDkV_HusiTNe"
      },
      "source": [
        "# Hint: think about iterations, conditionals, and logical operators \n",
        "\n",
        "def validity_check(sequence):\n",
        "    # COMPLETE\n",
        "    dna = {\"a\",\"A\",\"C\",\"c\",\"G\",\"g\",\"T\",\"t\"}\n",
        "    check_res = 0\n",
        "    for n in sequence:\n",
        "      if n not in dna:\n",
        "         check_res += 1\n",
        "      else:\n",
        "        check_res += 0\n",
        "    if check_res > 0:\n",
        "      return(False)\n",
        "    else:\n",
        "      return(True)\n",
        "\n",
        "assert validity_check('ACGT') == True, 'validity_check(\"ACGT\") returns False, should return True'\n",
        "assert validity_check('acgt') == True, 'validity_check(\"acgt\") returns False, should return True'\n",
        "assert validity_check('AGUC') == False, 'validity_check(\"AGUC\") returns True, should return False'\n",
        "assert validity_check('PPPP') == False, 'validity_check(\"PPPP\") returns True, should return False'"
      ],
      "execution_count": 13,
      "outputs": []
    },
    {
      "cell_type": "markdown",
      "metadata": {
        "id": "liVvCz-tiTNi"
      },
      "source": [
        "#### 1.2)\n",
        "Complete the following function which will return the reverse complement of a DNA sequence.\n",
        "\n",
        "The reverse complement is calculated by reversing the sequence and substituting: \n",
        "+ 'A' with 'T'\n",
        "+ 'T' with 'A'\n",
        "+ 'G' with 'C'\n",
        "+ 'C' with 'G'\n",
        "\n",
        "EG:\n",
        "```\n",
        "reverse_complement('AATC')\n",
        "\n",
        "step 1 - reverse the sequence:\n",
        "    reverse = 'CTAA'\n",
        "    \n",
        "step 2 - replace the characters with their complement:\n",
        "    'C' -> 'G'\n",
        "    'T' -> 'A'\n",
        "    'A' -> 'T'\n",
        "    'A' -> 'T'\n",
        "    \n",
        "    complement = 'GATT' \n",
        "```\n",
        "\n",
        "*When running the block, the assert statements will raise errors if your program does not return the correct response.*"
      ]
    },
    {
      "cell_type": "code",
      "metadata": {
        "id": "TRQL3Fg5iTNi"
      },
      "source": [
        "def reverse_complement(sequence):\n",
        "    # COMPLETE\n",
        "    rev_seq = sequence[::-1]\n",
        "    complement = {\"C\":\"G\",\"T\":\"A\",\"A\":\"T\",\"G\":\"C\",\"c\":\"g\",\"t\":\"a\",\"a\":\"t\",\"g\":\"c\"}\n",
        "    dna_seq = \"\"\n",
        "    for n in range(0, len(rev_seq), 1):\n",
        "      #use string slicing to get the one letter of the target sequence\n",
        "        #if the one-letter string matches a key in the dictionary, move to the next line\n",
        "       if rev_seq[n] in complement:\n",
        "      #set the variable string to the value associated with the dictionary at the specified key\n",
        "          dna_seq += complement[rev_seq[n]]\n",
        "    return dna_seq\n",
        "\n",
        "#ADD CODE HERE\n",
        "\n",
        "assert reverse_complement('AAGCT') == 'AGCTT', 'reverse_complement(\"AAGCT\") should return \"AGCTT\"'\n",
        "assert reverse_complement('tggca') in ['tgcca','TGCCA'], 'reverse_complement(\"tggca\") should return \"tgcca\"'"
      ],
      "execution_count": 19,
      "outputs": []
    },
    {
      "cell_type": "markdown",
      "metadata": {
        "id": "wLKlR5JdiTNl"
      },
      "source": [
        "#### 1.3)\n",
        "\n",
        "Write a script which will allow a user to input multiple DNA sequences one at a time. Assume that you do not know in advance how many sequences the user will actually enter. Your function should take this into account. You will need to accommodate multiple rounds of input and provide a means by which the user can end their entry activities. Your code will then check if the sequence is valid and return the reverse complement if it is. If the sequence is not valid, print an error message alerting the user to this. Be sure to provide helpful messages for successful uses as well.\n",
        "\n",
        "Hint: How might you use the functions you created in 1.1 and 1.2 to give you the functionality you need here?\n",
        "\n",
        "```\n",
        "PSEUDOCODE:\n",
        "loop until '' is entered:\n",
        "    prompt user for a new seq\n",
        "    if seq is valid:\n",
        "        output reverse complement\n",
        "    else\n",
        "        output error message indicating that sequence was invalid\n",
        "```"
      ]
    },
    {
      "cell_type": "code",
      "source": [
        "# Add code here\n",
        "new_dna = \"Input\"\n",
        "\n",
        "# Start a loop that will run until the user enters 'quit'.\n",
        "while new_dna != '':\n",
        "  # Ask the user for a dna sequence\n",
        "    new_dna = input(\"Please input multiple DNA sequences one at a time, or enter '' to end entry activity: \")\n",
        "    if validity_check(new_dna):\n",
        "          print(reverse_complement(new_dna))\n",
        "    elif validity_check(new_dna) == False and new_dna != '':\n",
        "        print(\"The sequence is not valid.\")\n",
        "\n",
        "\n",
        "\n"
      ],
      "metadata": {
        "id": "cG9Pk2dHRfUw",
        "colab": {
          "base_uri": "https://localhost:8080/"
        },
        "outputId": "119585b4-c3fc-4c0a-d4b8-85c8a5ad098f"
      },
      "execution_count": 20,
      "outputs": [
        {
          "output_type": "stream",
          "name": "stdout",
          "text": [
            "Please input multiple DNA sequences one at a time, or enter '' to end entry activity: AGCT\n",
            "AGCT\n",
            "Please input multiple DNA sequences one at a time, or enter '' to end entry activity: TRUE\n",
            "The sequence is not valid.\n",
            "Please input multiple DNA sequences one at a time, or enter '' to end entry activity: AM\n",
            "The sequence is not valid.\n",
            "Please input multiple DNA sequences one at a time, or enter '' to end entry activity: AQ\n",
            "The sequence is not valid.\n",
            "Please input multiple DNA sequences one at a time, or enter '' to end entry activity: AC\n",
            "GT\n",
            "Please input multiple DNA sequences one at a time, or enter '' to end entry activity: \n",
            "\n"
          ]
        }
      ]
    },
    {
      "cell_type": "markdown",
      "metadata": {
        "id": "TI0muGk7ih5y"
      },
      "source": [
        "# 2) Given a dictionary containing the mapping from RNA (keys) to amino acids (values).\n",
        "\n",
        "The goal of the question is to invert the dictionary that given an amino acid, a list of the triplets which encode it will be returned.\n",
        "- In the inverted dictionary, the amino acids will be the keys, and the RNA triplets will be the values.\n",
        "- As multiple triplets can map to the same amino acid, you will need to store the triplets in a list.\n",
        "    - AA: [triplet, triplet, ...]\n",
        "    "
      ]
    },
    {
      "cell_type": "code",
      "metadata": {
        "id": "5nWlErJUiTN8",
        "colab": {
          "base_uri": "https://localhost:8080/"
        },
        "outputId": "6f066f2e-6ce5-44d7-a0f5-48727fb522b6"
      },
      "source": [
        "import pprint\n",
        "gen_code = {\n",
        "  \"AAA\":\t\"Lys\", \"AUA\":\t\"Ile\", \"ACA\":\t\"Thr\", \"AGA\":\t\"Arg\", \"AAU\":\t\"Asn\", \"AUU\":\t\"Ile\", \"ACU\":\t\"Thr\",\n",
        "  \"AGU\":\t\"Ser\", \"AAC\":\t\"Asn\", \"AUC\":\t\"Ile\", \"ACC\":\t\"Thr\", \"AGC\":\t\"Ser\", \"AAG\":\t\"Lys\", \"AUG\":\t\"Met\", \n",
        "  \"ACG\":\t\"Thr\", \"AGG\":\t\"Arg\", \"UAA\":\t\"Stop\", \"UUA\": \"Leu\", \"UCA\": \"Ser\", \"UGA\":\t\"Stop\", \"UAU\": \"Tyr\", \n",
        "  \"UUU\":\t\"Phe\", \"UCU\":\t\"Ser\", \"UGU\":\t\"Cys\", \"UAC\":\t\"Tyr\", \"UUC\":\t\"Phe\", \"UCC\":\t\"Ser\", \"UGC\":\t\"Cys\", \n",
        "  \"UAG\":\t\"Stop\", \"UUG\": \"Leu\", \"UCG\":\t\"Ser\", \"UGG\":\t\"His\", \"CAA\":\t\"Gln\", \"CUA\":\t\"Leu\", \"CCA\":\t\"Pro\", \n",
        "  \"CGA\":\t\"Arg\", \"CAU\":\t\"His\", \"CUU\":\t\"Leu\", \"CCU\":\t\"Pro\", \"CGU\":\t\"Arg\", \"CAC\":\t\"His\", \"CUC\":\t\"Leu\", \n",
        "  \"CCC\":\t\"Pro\", \"CGC\":\t\"Arg\", \"CAG\":\t\"Gln\", \"CUG\":\t\"Leu\", \"CCG\":\t\"Pro\", \"CGG\":\t\"Arg\", \"GAA\":\t\"Glu\", \n",
        "  \"GUA\":\t\"Val\", \"GCA\":\t\"Ala\", \"GGA\":\t\"Gly\", \"GAU\":\t\"Asp\", \"GUU\":\t\"Val\", \"GCU\":\t\"Ala\", \"GGU\":\t\"Gly\", \n",
        "  \"GAC\":\t\"Asp\", \"GUC\":\t\"Val\", \"GCC\":\t\"Ala\", \"GGC\":\t\"Gly\", \"GAG\":\t\"Glu\", \"GUG\":\t\"Val\", \"GCG\":\t\"Ala\", \n",
        "  \"GGG\":\t\"Gly\",\n",
        "}\n",
        "\n",
        "res = {}\n",
        "for key, value in gen_code.items():\n",
        "  if value not in res:\n",
        "    # Complete statement block\n",
        "    res[value] = []\n",
        "    res[value].append(key)\n",
        "  else:\n",
        "    res[value].append(key)\n",
        "  # Complete statement\n",
        "pprint.pprint(res)"
      ],
      "execution_count": 21,
      "outputs": [
        {
          "output_type": "stream",
          "name": "stdout",
          "text": [
            "{'Ala': ['GCA', 'GCU', 'GCC', 'GCG'],\n",
            " 'Arg': ['AGA', 'AGG', 'CGA', 'CGU', 'CGC', 'CGG'],\n",
            " 'Asn': ['AAU', 'AAC'],\n",
            " 'Asp': ['GAU', 'GAC'],\n",
            " 'Cys': ['UGU', 'UGC'],\n",
            " 'Gln': ['CAA', 'CAG'],\n",
            " 'Glu': ['GAA', 'GAG'],\n",
            " 'Gly': ['GGA', 'GGU', 'GGC', 'GGG'],\n",
            " 'His': ['UGG', 'CAU', 'CAC'],\n",
            " 'Ile': ['AUA', 'AUU', 'AUC'],\n",
            " 'Leu': ['UUA', 'UUG', 'CUA', 'CUU', 'CUC', 'CUG'],\n",
            " 'Lys': ['AAA', 'AAG'],\n",
            " 'Met': ['AUG'],\n",
            " 'Phe': ['UUU', 'UUC'],\n",
            " 'Pro': ['CCA', 'CCU', 'CCC', 'CCG'],\n",
            " 'Ser': ['AGU', 'AGC', 'UCA', 'UCU', 'UCC', 'UCG'],\n",
            " 'Stop': ['UAA', 'UGA', 'UAG'],\n",
            " 'Thr': ['ACA', 'ACU', 'ACC', 'ACG'],\n",
            " 'Tyr': ['UAU', 'UAC'],\n",
            " 'Val': ['GUA', 'GUU', 'GUC', 'GUG']}\n"
          ]
        }
      ]
    },
    {
      "cell_type": "code",
      "metadata": {
        "id": "SL57ZL6HrxKL"
      },
      "source": [
        "# Expected output\n",
        "# {\n",
        "#  'Ala': ['GCA', 'GCU', 'GCC', 'GCG'],\n",
        "#  'Arg': ['AGA', 'AGG', 'CGA', 'CGU', 'CGC', 'CGG'],\n",
        "#  'Asn': ['AAU', 'AAC'],\n",
        "#  'Asp': ['GAU', 'GAC'],\n",
        "#  'Cys': ['UGU', 'UGC'],\n",
        "#  'Gln': ['CAA', 'CAG'],\n",
        "#  'Glu': ['GAA', 'GAG'],\n",
        "#  'Gly': ['GGA', 'GGU', 'GGC', 'GGG'],\n",
        "#  'His': ['UGG', 'CAU', 'CAC'],\n",
        "#  'Ile': ['AUA', 'AUU', 'AUC'],\n",
        "#  'Leu': ['UUA', 'UUG', 'CUA', 'CUU', 'CUC', 'CUG'],\n",
        "#  'Lys': ['AAA', 'AAG'],\n",
        "#  'Met': ['AUG'],\n",
        "#  'Phe': ['UUU', 'UUC'],\n",
        "#  'Pro': ['CCA', 'CCU', 'CCC', 'CCG'],\n",
        "#  'Ser': ['AGU', 'AGC', 'UCA', 'UCU', 'UCC', 'UCG'],\n",
        "#  'Stop': ['UAA', 'UGA', 'UAG'],\n",
        "#  'Thr': ['ACA', 'ACU', 'ACC', 'ACG'],\n",
        "#  'Tyr': ['UAU', 'UAC'],\n",
        "#  'Val': ['GUA', 'GUU', 'GUC', 'GUG']\n",
        "#  }"
      ],
      "execution_count": null,
      "outputs": []
    }
  ]
}
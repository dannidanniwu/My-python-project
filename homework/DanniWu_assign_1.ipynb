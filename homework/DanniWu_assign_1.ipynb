{
  "nbformat": 4,
  "nbformat_minor": 0,
  "metadata": {
    "kernelspec": {
      "display_name": "Python 3",
      "language": "python",
      "name": "python3"
    },
    "language_info": {
      "codemirror_mode": {
        "name": "ipython",
        "version": 3
      },
      "file_extension": ".py",
      "mimetype": "text/x-python",
      "name": "python",
      "nbconvert_exporter": "python",
      "pygments_lexer": "ipython3",
      "version": "3.7.7-final"
    },
    "colab": {
      "name": "DanniWu-assign-1.ipynb",
      "provenance": [],
      "collapsed_sections": []
    }
  },
  "cells": [
    {
      "cell_type": "markdown",
      "metadata": {
        "id": "694n4ey6w8un"
      },
      "source": [
        "# Introduction to Programming (21th July 2022)\n",
        "## Copy into your drive\n",
        "## Due: 28th July 2022 by 11:59pm (email to millig01@nyu.edu)\n",
        "## Assignment 1"
      ]
    },
    {
      "cell_type": "markdown",
      "metadata": {
        "id": "FjyqpQ4tw8uo"
      },
      "source": [
        "## Question 1\n",
        "### Basic mathematical operations\n",
        "\n",
        "Basic mathematical operations between two integers:\n",
        "\n",
        "Using 16 and 5 as the values, perform the following operations:\n",
        "+ addition\n",
        "+ subtraction\n",
        "+ multiplication\n",
        "+ division\n",
        "+ power (16^5)\n",
        "\n",
        "You should output the type of the result as well as the result. eg:\n",
        "+ operation: 16 + 5 \n",
        "+ output: < class 'int'> 21"
      ]
    },
    {
      "cell_type": "code",
      "metadata": {
        "id": "UYvhrLZow8uo",
        "colab": {
          "base_uri": "https://localhost:8080/"
        },
        "outputId": "0f162b2c-3aee-446c-d54a-e01171758a28"
      },
      "source": [
        "# CODE FOR 1\n",
        "print('16 + 5 =', type(16 + 5), 16 + 5)\n",
        "print('16 - 5 =', type(16 - 5), 16 - 5)\n",
        "print('16 * 5 =', type(16 * 5), 16 * 5)\n",
        "print('16 / 5 =', type(16 / 5), 16 / 5)\n",
        "print('16 ^ 5 =', type(16 ** 5), 16 ** 5)\n"
      ],
      "execution_count": null,
      "outputs": [
        {
          "output_type": "stream",
          "name": "stdout",
          "text": [
            "16 + 5 = <class 'int'> 21\n",
            "16 - 5 = <class 'int'> 11\n",
            "16 * 5 = <class 'int'> 80\n",
            "16 / 5 = <class 'float'> 3.2\n",
            "16 ^ 5 = <class 'int'> 1048576\n"
          ]
        }
      ]
    },
    {
      "cell_type": "markdown",
      "metadata": {
        "id": "-REsv1HYw8uw"
      },
      "source": [
        "### A note on `assert` statements\n",
        "\n",
        "As we saw in lesson 4, assert statements are used as checks during the execution of a program to make sure it is running correctly.\n",
        "\n",
        "The structure of an assert statements is as follows:\n",
        "\n",
        "```\n",
        "assert <conditional_expression>, <error_message_to_print> ```\n",
        "\n",
        "When the condition returns `True`, this line will not print anything, and the program will continue to execute. When the expression returns `False` though, the assert statement will raise an `AssertionError`.\n",
        "\n",
        "**In the assignments, assert statements are used to define test cases that check whether your solution is correct or not.**\n",
        "\n",
        "For example, in Question 2 of this assignment, the first assert statement checks whether the `result_addition` variable is equal to the sum of the two numbers that were input.\n",
        "\n",
        "If `results_addition` does not equal `number1 + number2` then an `AssertionError` will be thrown with the message showing the values for result_addition, number1, and number2 in expression form.\n",
        "\n",
        "If your code passes all the checks, then the final print statment will be displayed."
      ]
    },
    {
      "cell_type": "code",
      "metadata": {
        "id": "A9_kmHVFw8uw",
        "colab": {
          "base_uri": "https://localhost:8080/",
          "height": 166
        },
        "outputId": "b001c0e6-74a9-4f50-d7f9-1d182b0f65f8"
      },
      "source": [
        "assert False"
      ],
      "execution_count": null,
      "outputs": [
        {
          "output_type": "error",
          "ename": "AssertionError",
          "evalue": "ignored",
          "traceback": [
            "\u001b[0;31m---------------------------------------------------------------------------\u001b[0m",
            "\u001b[0;31mAssertionError\u001b[0m                            Traceback (most recent call last)",
            "\u001b[0;32m<ipython-input-5-a871fdc9ebee>\u001b[0m in \u001b[0;36m<module>\u001b[0;34m()\u001b[0m\n\u001b[0;32m----> 1\u001b[0;31m \u001b[0;32massert\u001b[0m \u001b[0;32mFalse\u001b[0m\u001b[0;34m\u001b[0m\u001b[0;34m\u001b[0m\u001b[0m\n\u001b[0m",
            "\u001b[0;31mAssertionError\u001b[0m: "
          ]
        }
      ]
    },
    {
      "cell_type": "markdown",
      "metadata": {
        "id": "7rrzi3o0w8uz"
      },
      "source": [
        "## Question 2\n",
        "### Variables\n",
        "\n",
        "Perform the same operations as in Question 1, except use the input() operation to get two integers. In addition, store the result of each operation in a variable called result_< operation > eg result_addition for addition (Assume that the user will always enter valid input)."
      ]
    },
    {
      "cell_type": "code",
      "metadata": {
        "id": "9Saydea6w8u0",
        "colab": {
          "base_uri": "https://localhost:8080/"
        },
        "outputId": "730e6e6d-799f-4ae4-d902-bd0cd16723c5"
      },
      "source": [
        "number1 = int(input(\"Get the first integer: \"))#ADD CODE TO GET FIRST INT\n",
        "number2 = int(input(\"Get the second integer: \"))#ADD CODE TO GET SECOND INT\n",
        "\n",
        "# Replace '0' with the expression for each operation\n",
        "# ADDITION\n",
        "result_addition = number1 + number2\n",
        "# SUBTRACTION\n",
        "result_subtraction = number1 - number2\n",
        "# MULTIPLICATION\n",
        "result_multiplication = number1 * number2\n",
        "# DIVISION\n",
        "result_division = number1 / number2\n",
        "# POWER\n",
        "result_power = number1 ** number2\n",
        "\n",
        "# THIS IS TO CHECK YOUR CODE, DON'T CHANGE THIS\n",
        "# IF YOUR CODE IS CORRECT YOU WILL NOT GET ANY ERRORS\n",
        "assert result_addition == number1 + number2, \"{} != {} + {}\".format(result_addition, number1, number2)\n",
        "assert result_subtraction == number1 - number2, \"{} != {} - {}\".format(result_addition, number1, number2)\n",
        "assert result_multiplication == number1 * number2, \"{} != {} * {}\".format(result_addition, number1, number2)\n",
        "assert result_division == number1 / number2, \"{} != {} / {}\".format(result_addition, number1, number2)\n",
        "assert result_power == number1 ** number2, \"{} != {} ** {}\".format(result_addition, number1, number2)\n",
        "\n",
        "print('All assert checks have passed')"
      ],
      "execution_count": null,
      "outputs": [
        {
          "output_type": "stream",
          "name": "stdout",
          "text": [
            "Get the first integer: 16\n",
            "Get the second integer: 5\n",
            "All assert checks have passed\n"
          ]
        }
      ]
    },
    {
      "cell_type": "markdown",
      "metadata": {
        "id": "AIKDGPVcz9ge"
      },
      "source": [
        "## Question 3\n",
        "### Conditionals\n",
        "\n",
        "#### 3.1) Promt the user to enter a temperature in celcius or farenheit. The last character should be c or f to specify which unit. Which ever unit was entered, output the temperature in the other unit. For this first step assume that users can only enter values >= 0 and that they will always enter valid strings.\n",
        "\n",
        "Farenheit to Celcius Formula: (°F − 32) × 5/9 = °C\n",
        "Celcius to Farenheit Formula: (°C × 9/5) + 32 = °F\n",
        "\n",
        "Example:\n",
        "- Input: 40c\n",
        "- Output: 104f\n",
        "- Input: 0f\n",
        "- Output: -17.7777777778c"
      ]
    },
    {
      "cell_type": "code",
      "metadata": {
        "id": "UtyMkLHl1dmW",
        "colab": {
          "base_uri": "https://localhost:8080/"
        },
        "outputId": "326f02a4-e529-40a9-edf5-5c21a1719857"
      },
      "source": [
        "# CODE FOR 3.1\n",
        "# Hint: remember two things. First, inputs are strings and, second, you can access the last element of a string using index -1 \n",
        "temperature = input(\"Please, enter a temperature in celcius or farenheit: \")\n",
        "if temperature[-1] == \"c\":\n",
        "  print(str((float(temperature[:-1]) * 9/5) + 32) + \"f\")\n",
        "else:\n",
        "  print(str((float(temperature[:-1]) - 32) * 5/9) + \"c\")\n",
        "\n",
        "     \n",
        "\n",
        "\n",
        "\n",
        "\n"
      ],
      "execution_count": null,
      "outputs": [
        {
          "output_type": "stream",
          "name": "stdout",
          "text": [
            "Please, enter a temperature in celcius or farenheit: 0f\n",
            "-17.77777777777778c\n"
          ]
        }
      ]
    },
    {
      "cell_type": "markdown",
      "source": [
        "#### 3.2) Take your existing code but enable it to handle invalid input. This will require a use of [try/except](https://www.w3schools.com/python/python_try_except.asp) as well as a conditional. \n",
        "\n",
        "\n",
        "Example:\n",
        "- Valid input:\n",
        "  - Input: 12f\n",
        "  - Output: -11.1111c\n",
        "- Invalid input:\n",
        "  - Input: 40\n",
        "  - Output: Invalid input\n",
        "  - Input: asd\n",
        "  - Output: Invalid input"
      ],
      "metadata": {
        "id": "cD_Vkiru2Obn"
      }
    },
    {
      "cell_type": "code",
      "source": [
        "# code for 3.2\n",
        "\n",
        "temperature = input(\"Please, enter a temperature in celcius or farenheit: \")\n",
        "try:\n",
        "  if temperature[-1] == \"c\":\n",
        "    trans_temp = (float(temperature[:-1]) * 9/5) + 32\n",
        "    print(\"{:.4f}{}\".format(trans_temp , \"f\"))\n",
        "  elif temperature[-1] == \"f\":\n",
        "    trans_temp = (float(temperature[:-1]) - 32) * 5/9\n",
        "    print(\"{:.4f}{}\".format(trans_temp , \"c\"))\n",
        "  else:\n",
        "    raise Exception(\"Invalid input\")\n",
        "except:\n",
        "  print(\"Invalid input\")\n",
        "\n",
        "\n",
        "\n",
        "\n",
        "\n",
        "\n",
        "\n",
        "\n"
      ],
      "metadata": {
        "id": "u8ypbHWD2Wnz",
        "colab": {
          "base_uri": "https://localhost:8080/"
        },
        "outputId": "9f13cbd5-099b-4214-8bb0-b40964a22adb"
      },
      "execution_count": null,
      "outputs": [
        {
          "output_type": "stream",
          "name": "stdout",
          "text": [
            "Please, enter a temperature in celcius or farenheit: 40d\n",
            "Invalid input\n"
          ]
        }
      ]
    },
    {
      "cell_type": "markdown",
      "metadata": {
        "id": "6gWef_8rw8vB"
      },
      "source": [
        "## Question 4\n",
        "### Lists and Dictionaries\n",
        "\n",
        "4.1\n",
        "Create a list of at least 10 elements. Access and print the even elements of this list, then print the odd elements of this list\n",
        "\n",
        "\n",
        "4.2\n",
        "Drill down into this dictionary and get the values for a) name, b) each mentor, c) each major contribution \n",
        "\n",
        "```python famous_programmer = {\n",
        "  \"name\": \"Ada Lovelace\",\n",
        "  \"occupation\": \"Mathemetician\",\n",
        "  \"parents\": [\"Anne Isabella Noel Byron\",\"Lord Byron\"],\n",
        "  \"mentors\": [\"Charles Babbage\", \"Augustus De Morgan\"],\n",
        "  \"major contributions\": [\"first computer program\", \"articulated the concept of machine-composed music\"]\n",
        "} ```"
      ]
    },
    {
      "cell_type": "code",
      "source": [
        "# CODE FOR 4.1\n",
        "my_list = [1, 2, 3, 4, 5, 6, 7, 8, 9, 10, 11] #Create a list of at least 10 elements\n",
        "print(\"print the even elements of this list:\",my_list[1: :2]) #print the even elements of this list\n",
        "print(\"print the odd elements of this list:\",my_list[ : :2]) #print the odd elements of this list\n",
        "\n",
        "\n"
      ],
      "metadata": {
        "id": "oxTqVT3Wwcgm",
        "colab": {
          "base_uri": "https://localhost:8080/"
        },
        "outputId": "3adf078e-b8fd-457c-fc66-18fbb5b0fa3f"
      },
      "execution_count": null,
      "outputs": [
        {
          "output_type": "stream",
          "name": "stdout",
          "text": [
            "print the even elements of this list: [2, 4, 6, 8, 10]\n",
            "print the odd elements of this list: [1, 3, 5, 7, 9, 11]\n"
          ]
        }
      ]
    },
    {
      "cell_type": "code",
      "source": [
        "# CODE FOR 4.2\n",
        "\n",
        "famous_programmer = {\n",
        "  \"name\": \"Ada Lovelace\",\n",
        "  \"occupation\": \"Mathemetician\",\n",
        "  \"parents\": [\"Anne Isabella Noel Byron\",\"Lord Byron\"],\n",
        "  \"mentors\": [\"Charles Babbage\", \"Augustus De Morgan\"],\n",
        "  \"major contributions\": [\"first computer program\", \"articulated the concept of machine-composed music\"]\n",
        "}\n",
        "\n",
        "#get the values for a) name, b) each mentor, c) each major contribution\n",
        "print(famous_programmer.get(\"name\"))\n",
        "print(famous_programmer.get(\"mentors\"))\n",
        "print(famous_programmer.get(\"major contributions\"))"
      ],
      "metadata": {
        "colab": {
          "base_uri": "https://localhost:8080/"
        },
        "id": "D3vgAQfHwhgs",
        "outputId": "87e7fdaa-d6f8-4889-877d-f4ec647b5d64"
      },
      "execution_count": null,
      "outputs": [
        {
          "output_type": "stream",
          "name": "stdout",
          "text": [
            "Ada Lovelace\n",
            "['Charles Babbage', 'Augustus De Morgan']\n",
            "['first computer program', 'articulated the concept of machine-composed music']\n",
            "Augustus De Morgan\n"
          ]
        }
      ]
    },
    {
      "cell_type": "markdown",
      "source": [
        "## Question 5\n",
        "### Loops\n",
        "\n",
        "5.1 Use a for loop and a range to generate a list of number from 1 to 30. Then take each number and square it and append it to a new list called \"squared\".\n",
        "\n",
        "5.2 \n",
        "Write code to get a string from the user as input.\n",
        "\n",
        "Using that string, convert it to lowercase, then take the first character and make every subsequent occurance of the character upper case. Print the reformatted string.\n",
        "\n",
        "Example:\n",
        "\n",
        "Input: she sells sea shells by the sea shore\n",
        "\n",
        "Output: she SellS Sea ShellS by the Sea Shore"
      ],
      "metadata": {
        "id": "3ZbmfgXgkzjo"
      }
    },
    {
      "cell_type": "code",
      "source": [
        "# Code for 5.1 \n",
        "my_list = []\n",
        "squared = []\n",
        "for i in range(1,31):\n",
        "  my_list.append(i)\n",
        "  squared.append(i**2)\n",
        "\n",
        "print(\"original list\",my_list)\n",
        "print(\"new list\",squared)\n",
        "\n"
      ],
      "metadata": {
        "id": "ECbmJGlZ246e",
        "colab": {
          "base_uri": "https://localhost:8080/"
        },
        "outputId": "40d95a7f-42d3-4c21-baee-43e5410f503a"
      },
      "execution_count": null,
      "outputs": [
        {
          "output_type": "stream",
          "name": "stdout",
          "text": [
            "original list [1, 2, 3, 4, 5, 6, 7, 8, 9, 10, 11, 12, 13, 14, 15, 16, 17, 18, 19, 20, 21, 22, 23, 24, 25, 26, 27, 28, 29, 30]\n",
            "new list [1, 4, 9, 16, 25, 36, 49, 64, 81, 100, 121, 144, 169, 196, 225, 256, 289, 324, 361, 400, 441, 484, 529, 576, 625, 676, 729, 784, 841, 900]\n"
          ]
        }
      ]
    },
    {
      "cell_type": "code",
      "source": [
        "# Code for 5.2\n",
        "user_input = input(\"Please, enter a string: \") #get a string from the user as input\n",
        "user_input_lower = user_input.lower() #Using that string, convert it to lowercase\n",
        "input_list = list(user_input_lower)\n",
        "\n",
        "for i in range(1,len(input_list)):\n",
        "  while input_list[i] == input_list[0]:\n",
        "     input_list[i] = input_list[i].upper()\n",
        "\n",
        "print(\"\".join(input_list)) #Print the reformatted string\n",
        "\n",
        "\n",
        "\n"
      ],
      "metadata": {
        "id": "-SffYiPA25Db",
        "colab": {
          "base_uri": "https://localhost:8080/"
        },
        "outputId": "edc83e6d-bedd-4ad6-881c-81283d125e20"
      },
      "execution_count": null,
      "outputs": [
        {
          "output_type": "stream",
          "name": "stdout",
          "text": [
            "Please, enter a string: she sells sea shells by the sea shorss\n",
            "she SellS Sea ShellS by the Sea ShorSS\n"
          ]
        }
      ]
    },
    {
      "cell_type": "markdown",
      "metadata": {
        "id": "N8Ax0Q1_w8vP"
      },
      "source": [
        "## Question 6 \n",
        "### Finding Prime Numbers\n",
        "\n",
        "Finish the code which finds all of the prime numbers between 2 and 100 and store them in a list.\n",
        "Then print the list of prime numbers.\n",
        "\n",
        "A prime number is a number which is only divisible by itself and 1.\n",
        "\n",
        "Some starting code has been provided."
      ]
    },
    {
      "cell_type": "code",
      "metadata": {
        "id": "4YrWtzRDw8vQ",
        "colab": {
          "base_uri": "https://localhost:8080/"
        },
        "outputId": "94df31af-bf6e-446a-9f08-76c2a78e7318"
      },
      "source": [
        "results = []\n",
        "for i in range(2, 101):\n",
        "    prime = True\n",
        "    for j in range(2, i//2+1):\n",
        "        if i%j == 0:\n",
        "            prime = False\n",
        "    if prime:\n",
        "            results.append(i)\n",
        "\n",
        "print(results)\n",
        "# expected output: [2, 3, 5, 7, 11, 13, 17, 19, 23, 29, 31, 37, 41, 43, 47, 53, 59, 61, 67, 71, 73, 79, 83, 89, 97]"
      ],
      "execution_count": null,
      "outputs": [
        {
          "output_type": "stream",
          "name": "stdout",
          "text": [
            "[2, 3, 5, 7, 11, 13, 17, 19, 23, 29, 31, 37, 41, 43, 47, 53, 59, 61, 67, 71, 73, 79, 83, 89, 97]\n"
          ]
        }
      ]
    }
  ]
}